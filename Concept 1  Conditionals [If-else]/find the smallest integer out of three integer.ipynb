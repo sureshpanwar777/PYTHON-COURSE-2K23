{
 "cells": [
  {
   "cell_type": "markdown",
   "metadata": {},
   "source": [
    "-> Given three integers, find the smallest one.\n"
   ]
  },
  {
   "cell_type": "code",
   "execution_count": 1,
   "metadata": {},
   "outputs": [
    {
     "name": "stdout",
     "output_type": "stream",
     "text": [
      "all are equal\n"
     ]
    }
   ],
   "source": [
    "\n",
    "a=int(input(\"enter first integer\"))    #take three inputs from user for  three integers\n",
    "b=int(input(\"enter second integer\"))\n",
    "c=int(input(\"enter third integer\"))\n",
    "if a==b==c:             #if all integers are equal\n",
    "    print(\"all are equal\") \n",
    "elif a<=b and a<=c:     #if a smaller than equal to b and c \n",
    "    print(a,\"is the smallest\")\n",
    "elif b<=c:    #if b is smaller than equal to c and from above condn b is also smaller than a\n",
    "    print(b,\"is the smallest\")\n",
    "else:      #if above condtions are not true than c is the smallest one\n",
    "    print(c,\"is the smallest\")  "
   ]
  },
  {
   "cell_type": "code",
   "execution_count": null,
   "metadata": {},
   "outputs": [],
   "source": []
  }
 ],
 "metadata": {
  "kernelspec": {
   "display_name": "Python 3",
   "language": "python",
   "name": "python3"
  },
  "language_info": {
   "codemirror_mode": {
    "name": "ipython",
    "version": 3
   },
   "file_extension": ".py",
   "mimetype": "text/x-python",
   "name": "python",
   "nbconvert_exporter": "python",
   "pygments_lexer": "ipython3",
   "version": "3.11.6"
  }
 },
 "nbformat": 4,
 "nbformat_minor": 2
}
