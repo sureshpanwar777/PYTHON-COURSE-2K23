{
 "cells": [
  {
   "cell_type": "markdown",
   "metadata": {},
   "source": [
    "-> Given three points, find out whether they lie on the same straight line or not.\n"
   ]
  },
  {
   "cell_type": "code",
   "execution_count": 1,
   "metadata": {},
   "outputs": [
    {
     "name": "stdout",
     "output_type": "stream",
     "text": [
      "all three points are collinear\n"
     ]
    }
   ],
   "source": [
    "\n",
    "#first take 6 inputs from user for x and y coordinates of all three points \n",
    "x1=int(input(\"enter x coordinate of  1st point\"))\n",
    "y1=int(input(\"enter y coordinate of 1st point\"))\n",
    "x2=int(input(\"enter x coordinate of  2nd point\"))\n",
    "y2=int(input(\"enter y coordinate of  2nd point\"))\n",
    "x3=int(input(\"enter x coordinate of  3rd point\"))\n",
    "y3=int(input(\"enter y coordinate of  3rd point\"))\n",
    "a=1/2*(x1*(y2-y3)+x2*(y3-y1)+x3*(y1-y2))    #assigning value (a) to the area of triangle made by three points\n",
    "if a==0:      #check whether the area of triangle made by three points is zero .if it is zero than all points are collinear\n",
    "    print(\"all three points are collinear\")\n",
    "else:         #if area of triangle made by three points is not zero than all three points are not collinear\n",
    "    print(\"all three points are non collinear\")"
   ]
  },
  {
   "cell_type": "code",
   "execution_count": null,
   "metadata": {},
   "outputs": [],
   "source": []
  }
 ],
 "metadata": {
  "kernelspec": {
   "display_name": "Python 3",
   "language": "python",
   "name": "python3"
  },
  "language_info": {
   "codemirror_mode": {
    "name": "ipython",
    "version": 3
   },
   "file_extension": ".py",
   "mimetype": "text/x-python",
   "name": "python",
   "nbconvert_exporter": "python",
   "pygments_lexer": "ipython3",
   "version": "3.11.6"
  }
 },
 "nbformat": 4,
 "nbformat_minor": 2
}
