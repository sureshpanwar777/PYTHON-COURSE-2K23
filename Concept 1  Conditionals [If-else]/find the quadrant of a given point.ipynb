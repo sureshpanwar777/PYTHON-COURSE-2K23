{
 "cells": [
  {
   "cell_type": "markdown",
   "metadata": {},
   "source": [
    "-- >Given a point (x1, y1), find the quadrant in which this point lies."
   ]
  },
  {
   "cell_type": "code",
   "execution_count": null,
   "metadata": {},
   "outputs": [],
   "source": [
    "x=float(input(\"enter x coordinate of point\"))  #taking input of x and y coordinate of point from user\n",
    "y=float(input(\"enter y coordinate of point\"))\n",
    "if x==0:       \n",
    "    if y==0:     #if x and y both coordinates are zero then point is origin\n",
    "        print((x,y),\"is on origin\")\n",
    "    else:         #if x=0 but y!=0 then point is at y-axis\n",
    "        print((x,y),\"is on y-axis\")\n",
    "elif y==0:         #if x!=0 and y=0 then point is at x-axis\n",
    "    print((x,y),\"lies on x-axis\")\n",
    "elif x>0:       \n",
    "    if y>0:    #if x and y both greater then zero than point is in 1st quadrant\n",
    "        print((x,y),\"lies in 1st quadrant\")\n",
    "    else:       #if x is greater than zero and y is less than zero than point is in 4th quadrant\n",
    "        print((x,y),\"lies in 4th quadrant\")\n",
    "elif x<0:     \n",
    "    if y>0:    #if x is less zero than y is greater than zero then point is in 2nd quadrant\n",
    "        print((x,y),\"lies in 2nd quadrant\")\n",
    "    else:       #if x and y both are less than zero then point is in 3rd quardrant\n",
    "        print((x,y),\"lies in 3rd quadrant\")\n"
   ]
  }
 ],
 "metadata": {
  "kernelspec": {
   "display_name": "Python 3",
   "language": "python",
   "name": "python3"
  },
  "language_info": {
   "name": "python",
   "version": "3.11.6"
  }
 },
 "nbformat": 4,
 "nbformat_minor": 2
}
