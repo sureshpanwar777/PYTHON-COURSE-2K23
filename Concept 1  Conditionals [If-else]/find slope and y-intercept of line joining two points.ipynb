{
 "cells": [
  {
   "cell_type": "markdown",
   "metadata": {},
   "source": [
    "-> Given two points (x1, y1) and (x2, y2), find the slope and intercept of the line joining these two points (the line may be perfectly horizontal or vertical)."
   ]
  },
  {
   "cell_type": "code",
   "execution_count": null,
   "metadata": {},
   "outputs": [],
   "source": [
    "x1=float(input(\"enter x coordinate of 1st point\"))\n",
    "y1=float(input(\"enter y coordinate of 1st point\"))  #taking for input from user for x and y coordinates of both the points\n",
    "x2=float(input(\"enter x coordinate of 2nd point\"))\n",
    "y2=float(input(\"enter y coordinate of 2nd point\"))\n",
    "if x2-x1==0:       #check whether the formulaof slope and y-intercept is defined or not (line is perfectly vertical)\n",
    "    print(\"slope is not defined because line is perfectly vertical\")\n",
    "    print(\"y intercept is not defined\")\n",
    "else:\n",
    "    print(\"slope of line is \",y2-y1/x2-x1) #if formula is defined than output will be the value of slope of line\n",
    "    print(\"y intercept of line is \", (y1-y2)*x1/(x2-x1) + y1)#if formula  is defined than output will be the value of Y intercept of line\n",
    "\n"
   ]
  }
 ],
 "metadata": {
  "kernelspec": {
   "display_name": "Python 3",
   "language": "python",
   "name": "python3"
  },
  "language_info": {
   "codemirror_mode": {
    "name": "ipython",
    "version": 3
   },
   "file_extension": ".py",
   "mimetype": "text/x-python",
   "name": "python",
   "nbconvert_exporter": "python",
   "pygments_lexer": "ipython3",
   "version": "3.11.6"
  }
 },
 "nbformat": 4,
 "nbformat_minor": 2
}
