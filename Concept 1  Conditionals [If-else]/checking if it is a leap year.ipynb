{
 "cells": [
  {
   "cell_type": "markdown",
   "metadata": {},
   "source": [
    "->  Given a year, check if it is a leap year or not. A leap year is divisible by 4, except for years that are divisible by 100. However, years that are divisible by 400 are also leap years."
   ]
  },
  {
   "cell_type": "code",
   "execution_count": null,
   "metadata": {},
   "outputs": [],
   "source": [
    "a=int(input(\"enter any year\"))   #taking a input of year from user\n",
    "if a%4==0:           #checking if it is divisible by 4 because other are not leap year\n",
    "    if a%100!=0:      #according to given condn if it is divisible by 4 but not by 100 then is is a leap year\n",
    "        print(a,\"is a leap year\")\n",
    "    else:\n",
    "        if a%400==0: #if it is divisible by 4 and 400 then it is a leap year(even it is divisible by 100)\n",
    "            print(a,\"is a leap year\")\n",
    "        else:        #if it is divisible by 4 and 100 then it is not a leap year(except those which are divisible by 400)\n",
    "            print(a,\"is not a leap year\")\n",
    "else:          #if it is not divisible by 4 then it is not a leap year\n",
    "    print(a,\"is not a leap year\") "
   ]
  }
 ],
 "metadata": {
  "kernelspec": {
   "display_name": "Python 3",
   "language": "python",
   "name": "python3"
  },
  "language_info": {
   "name": "python",
   "version": "3.11.6"
  }
 },
 "nbformat": 4,
 "nbformat_minor": 2
}
