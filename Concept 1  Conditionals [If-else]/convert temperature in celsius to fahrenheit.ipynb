{
 "cells": [
  {
   "cell_type": "markdown",
   "metadata": {},
   "source": [
    "Given a temperature in Celsius, convert it to Fahrenheit using the formula F = (C * 1.8) + 32. If the temperature is above 90°F, print “It’s hot outside!” otherwise, print “The temperature is pleasant”."
   ]
  },
  {
   "cell_type": "code",
   "execution_count": 1,
   "metadata": {},
   "outputs": [
    {
     "name": "stdout",
     "output_type": "stream",
     "text": [
      "temperature is  125.60000000000001 degree fahrenheit\n",
      "it's hot outside\n"
     ]
    }
   ],
   "source": [
    "C=float(input(\"enter temperature in celsius\"))    #take temperature in celsius as input from  user \n",
    "F=(C*1.8)+32         #convert celsius to fahrenheit \n",
    "print(\"temperature is \" , F,\"degree fahrenheit\")\n",
    "if F>90:          #if temperature is above 90°F \n",
    "    print(\"it's hot outside\")\n",
    "else:             #if temperature is less than 90°Fsssssa\n",
    "    print(\"the temperature is pleasant\")"
   ]
  },
  {
   "cell_type": "code",
   "execution_count": null,
   "metadata": {},
   "outputs": [],
   "source": []
  }
 ],
 "metadata": {
  "kernelspec": {
   "display_name": "Python 3",
   "language": "python",
   "name": "python3"
  },
  "language_info": {
   "codemirror_mode": {
    "name": "ipython",
    "version": 3
   },
   "file_extension": ".py",
   "mimetype": "text/x-python",
   "name": "python",
   "nbconvert_exporter": "python",
   "pygments_lexer": "ipython3",
   "version": "3.11.6"
  }
 },
 "nbformat": 4,
 "nbformat_minor": 2
}
