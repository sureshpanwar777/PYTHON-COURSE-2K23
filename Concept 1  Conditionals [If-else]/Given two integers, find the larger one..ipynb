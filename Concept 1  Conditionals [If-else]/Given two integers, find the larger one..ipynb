{
 "cells": [
  {
   "cell_type": "markdown",
   "metadata": {},
   "source": [
    "Given two integers, find the larger one."
   ]
  },
  {
   "cell_type": "code",
   "execution_count": 3,
   "metadata": {},
   "outputs": [
    {
     "name": "stdout",
     "output_type": "stream",
     "text": [
      "5  is larger number\n"
     ]
    }
   ],
   "source": [
    "a=int(input(\"enter first integer\"))        #taking two inputs from user\n",
    "b=int(input(\"enter second integer\"))     \n",
    "if a==b:                              #if given numbers are equal\n",
    "    print(\"both integers are equal\")\n",
    "elif a>b:                             #checking if a is greater than b\n",
    "    print(a,\" is larger number\")\n",
    "else:                                 #remaining condition is b greater than a\n",
    "    print(b,\" is larger number\")"
   ]
  }
 ],
 "metadata": {
  "kernelspec": {
   "display_name": "Python 3",
   "language": "python",
   "name": "python3"
  },
  "language_info": {
   "name": "python",
   "version": "3.11.6"
  }
 },
 "nbformat": 4,
 "nbformat_minor": 2
}
