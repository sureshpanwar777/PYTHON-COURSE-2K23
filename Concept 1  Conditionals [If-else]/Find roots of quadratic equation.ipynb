{
 "cells": [
  {
   "cell_type": "markdown",
   "metadata": {},
   "source": [
    "-> Given a quadratic equation with coefficients a, b and c, find the two solutions (may be real or complex). You should not take the square root of a negative number in your code.\n"
   ]
  },
  {
   "cell_type": "code",
   "execution_count": 1,
   "metadata": {},
   "outputs": [
    {
     "name": "stdout",
     "output_type": "stream",
     "text": [
      "ax^2+bx+c=0 is a quadratic equation\n"
     ]
    }
   ],
   "source": [
    "#first take three inputs from user for value of a , b and c ,\n",
    "print(\"ax^2+bx+c=0 is a quadratic equation\")\n",
    "a=float(input(\"coefficent of x^2:\"))\n",
    "b=float(input(\"coefficent of x:\"))\n",
    "c=float(input(\"constant number c:\"))\n",
    "D=(b*b-4*a*c)    #value of de\n",
    "x1=(-b+D**0.5)/(2*a)      #assigning value x1 to the first root\n",
    "x2=(-b-D**0.5)/(2*a)      #assigning value x2 to the second root\n",
    "if D>=0: \n",
    "    print(\"roots are reak\")              #  #if roots are real than print value of both the roots\n",
    "    print(\"root1 =\",x1) #print roots\n",
    "    print(\"root2 =\",x2)\n",
    "else:                                     # if roots are complex i.e(D<0)\n",
    "    (\"roots are complex\") \n",
    "    real_part=-b/(2*a)      #real part of root\n",
    "    imaginary_part=((-D)**0.5/(2*a))         #imainary partof root\n",
    "    root1=complex(real_part,imaginary_part)      #roots in complex form\n",
    "    root2=complex(real_part,-imaginary_part)\n",
    "    print(\"root1 =\",root1)\n",
    "    print(\"root2 =\",root2)     #print roots in complex form\n",
    "                           "
   ]
  },
  {
   "cell_type": "code",
   "execution_count": null,
   "metadata": {},
   "outputs": [],
   "source": []
  }
 ],
 "metadata": {
  "kernelspec": {
   "display_name": "Python 3",
   "language": "python",
   "name": "python3"
  },
  "language_info": {
   "codemirror_mode": {
    "name": "ipython",
    "version": 3
   },
   "file_extension": ".py",
   "mimetype": "text/x-python",
   "name": "python",
   "nbconvert_exporter": "python",
   "pygments_lexer": "ipython3",
   "version": "3.11.6"
  }
 },
 "nbformat": 4,
 "nbformat_minor": 2
}
