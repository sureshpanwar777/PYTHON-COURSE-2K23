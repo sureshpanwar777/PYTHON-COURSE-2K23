{
 "cells": [
  {
   "cell_type": "markdown",
   "metadata": {},
   "source": [
    "-> Given a positive integer, find out the sum of all even numbers from 2 up to this number.\n"
   ]
  },
  {
   "cell_type": "code",
   "execution_count": null,
   "metadata": {},
   "outputs": [],
   "source": [
    "a=int(input(\"enter any positive integer\"))       #take input from user for postitive integer\n",
    "sum1=0                         #assign value to sum1\n",
    "for i in range (2,a+1,2):         #writing for loop for range 1 to (a+1) with the gap of 2 which means only even  number i.e(2,4,6,8....)\n",
    "    sum1+=i                 #as the loop iterate for every even number , the number get added to the value of sum1\n",
    "print(sum1)                #value of sum1 changes after every iteration  and as the loop completes value of sum1 is sum of all even number till the given  number     "
   ]
  }
 ],
 "metadata": {
  "kernelspec": {
   "display_name": "Python 3",
   "language": "python",
   "name": "python3"
  },
  "language_info": {
   "name": "python",
   "version": "3.11.6"
  }
 },
 "nbformat": 4,
 "nbformat_minor": 2
}
