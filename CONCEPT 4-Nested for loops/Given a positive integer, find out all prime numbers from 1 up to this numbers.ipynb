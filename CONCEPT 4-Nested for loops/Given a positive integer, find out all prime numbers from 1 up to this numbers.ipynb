{
 "cells": [
  {
   "cell_type": "markdown",
   "metadata": {},
   "source": [
    "-> Given a positive integer, find out all prime numbers from 1 up to this numbers .\n"
   ]
  },
  {
   "cell_type": "code",
   "execution_count": 2,
   "metadata": {},
   "outputs": [
    {
     "name": "stdout",
     "output_type": "stream",
     "text": [
      "Prime numbers till 26 are [2, 3, 5, 7, 11, 13, 17, 19, 23]\n"
     ]
    }
   ],
   "source": [
    "a = int(input(\"Enter any positive number: \"))          #take input from user for positive number\n",
    "# create an empty list to store prime numbers\n",
    "list1 = []\n",
    "for i in range(2, a + 1):          # lop for Iterating through numbers from 2 to the input number \n",
    "    d = 0     # assign a variable to count the number of divisors\n",
    "    for j in range(2, int(i**0.5) + 1):           # Check for divisors in the range from 2 to the square root of i \n",
    "        if i % j == 0:\n",
    "            # If i has a divisor, increment the count\n",
    "            d = d + 1\n",
    "    if d == 0:                    # If no divisors are found, i is a prime number, so add it to the list\n",
    "        list1.append(i)\n",
    "print(\"Prime numbers till\", a, \"are\", list1)          # Print the list of  the prime numbers up to the input number\n"
   ]
  },
  {
   "cell_type": "code",
   "execution_count": null,
   "metadata": {},
   "outputs": [],
   "source": []
  }
 ],
 "metadata": {
  "kernelspec": {
   "display_name": "Python 3",
   "language": "python",
   "name": "python3"
  },
  "language_info": {
   "codemirror_mode": {
    "name": "ipython",
    "version": 3
   },
   "file_extension": ".py",
   "mimetype": "text/x-python",
   "name": "python",
   "nbconvert_exporter": "python",
   "pygments_lexer": "ipython3",
   "version": "3.11.6"
  }
 },
 "nbformat": 4,
 "nbformat_minor": 2
}
