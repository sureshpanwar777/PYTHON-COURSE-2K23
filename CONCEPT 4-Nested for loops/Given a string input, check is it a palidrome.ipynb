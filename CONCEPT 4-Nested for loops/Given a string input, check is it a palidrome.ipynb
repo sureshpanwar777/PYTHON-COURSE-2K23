{
 "cells": [
  {
   "cell_type": "markdown",
   "metadata": {},
   "source": [
    "-> Given a string input, find out if it’s a palindrome.\n"
   ]
  },
  {
   "cell_type": "code",
   "execution_count": 4,
   "metadata": {},
   "outputs": [
    {
     "name": "stdout",
     "output_type": "stream",
     "text": [
      "Yes, it is a palindrome.\n"
     ]
    }
   ],
   "source": [
    "str1 = input(\"Enter any string: \")     # take input from the user for a string\n",
    "# Create a reversed version of the input string\n",
    "str2 = str1[::-1]  \n",
    "if str1==str2:                      #check weather given string is same as its reversed version.\n",
    "    print(\"Yes, it is a palindrome.\")         #if yes, it is palidrome\n",
    "else:                                               #if no, it is not palidrome\n",
    "    print(\"No, it is not a palindrome\")       "
   ]
  },
  {
   "cell_type": "code",
   "execution_count": null,
   "metadata": {},
   "outputs": [],
   "source": []
  }
 ],
 "metadata": {
  "kernelspec": {
   "display_name": "Python 3",
   "language": "python",
   "name": "python3"
  },
  "language_info": {
   "codemirror_mode": {
    "name": "ipython",
    "version": 3
   },
   "file_extension": ".py",
   "mimetype": "text/x-python",
   "name": "python",
   "nbconvert_exporter": "python",
   "pygments_lexer": "ipython3",
   "version": "3.11.6"
  }
 },
 "nbformat": 4,
 "nbformat_minor": 2
}
