{
 "cells": [
  {
   "cell_type": "markdown",
   "metadata": {},
   "source": [
    "-> Given a string input, find out if it’s a palindrome.\n"
   ]
  },
  {
   "cell_type": "code",
   "execution_count": 4,
   "metadata": {},
   "outputs": [
    {
     "name": "stdout",
     "output_type": "stream",
     "text": [
      "Yes, it is a palindrome.\n"
     ]
    }
   ],
   "source": [
    "str1 = input(\"Enter any string: \")     # take input from the user for a string\n",
    "# Create a reversed version of the input string\n",
    "str2 = str1[::-1]\n",
    "\n",
    "d = 0          #Create a variable to count matching characters\n",
    "for i in range(len(str1)):           #loop for Iterate through each character in the string\n",
    "    if str1[i] == str2[i]:       #Check if the character at the current index in the original string matches the reversed string\n",
    "        d += 1              # If they match, increase the value of d\n",
    "\n",
    "# Check if the number of matching characters is equal to the length of the string\n",
    "if d == len(str1):              # If so, print that it is a palindrome\n",
    "    print(\"Yes, it is a palindrome.\")   \n",
    "else:                               # If not, print that it is not a palindrome\n",
    "\n",
    "    print(\"No, it is not a palindrome.\")\n"
   ]
  }
 ],
 "metadata": {
  "kernelspec": {
   "display_name": "Python 3",
   "language": "python",
   "name": "python3"
  },
  "language_info": {
   "codemirror_mode": {
    "name": "ipython",
    "version": 3
   },
   "file_extension": ".py",
   "mimetype": "text/x-python",
   "name": "python",
   "nbconvert_exporter": "python",
   "pygments_lexer": "ipython3",
   "version": "3.11.6"
  }
 },
 "nbformat": 4,
 "nbformat_minor": 2
}
