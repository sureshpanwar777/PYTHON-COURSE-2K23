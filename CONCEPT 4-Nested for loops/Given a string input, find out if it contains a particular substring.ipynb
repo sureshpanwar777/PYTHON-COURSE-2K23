{
 "cells": [
  {
   "cell_type": "markdown",
   "metadata": {},
   "source": [
    "-> Given a string input, find out if it contains a particular substring.\n"
   ]
  },
  {
   "cell_type": "code",
   "execution_count": 7,
   "metadata": {},
   "outputs": [
    {
     "name": "stdout",
     "output_type": "stream",
     "text": [
      "Yes, the substring is present.\n"
     ]
    }
   ],
   "source": [
    "# Get input from the user for a string and a substring to find\n",
    "str1 = input(\"Enter any string: \")\n",
    "sub_str = input(\"Enter substring to find: \")\n",
    "\n",
    "         \n",
    "for i in range(len(str1)):         #loop for iterating through the indices of the main string (str1)\n",
    "    d = 0           # assign variable to track matching characters in the substring\n",
    "    if sub_str[0] == str1[i]:             # Check if the first character of the substring matches the current character in str1\n",
    "        for k in range(len(sub_str)):              #loop for Iterate through the characters of the substring\n",
    "            # Check if the current character of the substring matches the corresponding character in str1\n",
    "            if sub_str[k] == str1[i + k]:\n",
    "                d += 1          # Increase the match counter\n",
    "            else:\n",
    "                break           # Break the loop if a mismatch is found\n",
    "        \n",
    "        # Check if the match counter is equal to the length of the substring\n",
    "        if d == len(sub_str):\n",
    "            print(\"Yes, the substring is present.\")\n",
    "            break          # Break the outer loop if a match is found\n",
    "\n",
    "if d != len(sub_str):    # Check if the match counter is not equal to the length of the substring\n",
    "    print(\"No, the substring is not present.\")\n"
   ]
  },
  {
   "cell_type": "code",
   "execution_count": null,
   "metadata": {},
   "outputs": [],
   "source": []
  }
 ],
 "metadata": {
  "kernelspec": {
   "display_name": "Python 3",
   "language": "python",
   "name": "python3"
  },
  "language_info": {
   "codemirror_mode": {
    "name": "ipython",
    "version": 3
   },
   "file_extension": ".py",
   "mimetype": "text/x-python",
   "name": "python",
   "nbconvert_exporter": "python",
   "pygments_lexer": "ipython3",
   "version": "3.11.6"
  }
 },
 "nbformat": 4,
 "nbformat_minor": 2
}
