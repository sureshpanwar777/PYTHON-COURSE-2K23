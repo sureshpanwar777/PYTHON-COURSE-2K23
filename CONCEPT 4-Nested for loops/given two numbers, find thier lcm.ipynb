{
 "cells": [
  {
   "cell_type": "markdown",
   "metadata": {},
   "source": [
    "-> Given two numbers, find its Least Common Multiple (LCM).\n"
   ]
  },
  {
   "cell_type": "code",
   "execution_count": 2,
   "metadata": {},
   "outputs": [
    {
     "name": "stdout",
     "output_type": "stream",
     "text": [
      "32 is the least common multiple of 16 and 32\n"
     ]
    }
   ],
   "source": [
    "a = int(input(\"Enter the first positive number: \"))    # take a input from user for two positive number\n",
    "b = int(input(\"Enter the second positive number: \"))\n",
    "#loop for  Iterating through numbers from maximum of (a,b) to the product of a and b\n",
    "for i in range(max(a,b), (a * b) + 1):\n",
    "    # Check if i is a multiple of both a and b\n",
    "    if i % a == 0 and i % b == 0:\n",
    "        lcm1 = i       # Update the least common multiple (lcm) if the condition is true and break the loop\n",
    "        break\n",
    "print(lcm1, \"is the least common multiple of\", a, \"and\", b)      #print the lcm of a and b\n"
   ]
  },
  {
   "cell_type": "code",
   "execution_count": null,
   "metadata": {},
   "outputs": [],
   "source": []
  }
 ],
 "metadata": {
  "kernelspec": {
   "display_name": "Python 3",
   "language": "python",
   "name": "python3"
  },
  "language_info": {
   "codemirror_mode": {
    "name": "ipython",
    "version": 3
   },
   "file_extension": ".py",
   "mimetype": "text/x-python",
   "name": "python",
   "nbconvert_exporter": "python",
   "pygments_lexer": "ipython3",
   "version": "3.11.6"
  }
 },
 "nbformat": 4,
 "nbformat_minor": 2
}
