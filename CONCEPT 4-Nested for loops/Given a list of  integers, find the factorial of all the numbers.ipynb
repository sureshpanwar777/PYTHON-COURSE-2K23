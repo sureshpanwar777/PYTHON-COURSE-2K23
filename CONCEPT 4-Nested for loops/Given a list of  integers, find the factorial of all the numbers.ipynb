{
 "cells": [
  {
   "cell_type": "markdown",
   "metadata": {},
   "source": [
    "-> Given a list of positive integers, find the factorial of all the numbers.\n"
   ]
  },
  {
   "cell_type": "code",
   "execution_count": 2,
   "metadata": {},
   "outputs": [
    {
     "name": "stdout",
     "output_type": "stream",
     "text": [
      "factorial of 1 is 1\n",
      "factorial of 2 is 2\n",
      "factorial of 3 is 6\n",
      "factorial of 4 is 24\n",
      "factorial of 6 is 720\n",
      "factorial of 5 is 120\n",
      "factorial of 7 is 5040\n"
     ]
    }
   ],
   "source": [
    "list1 = [1, 2, 3, 4, 6, 5, 7]     #given list of positive numbers\n",
    "for i in list1:            # loop for iterating through each element in the list\n",
    "    fact = 1       # assign a value to a variable to store value of the factorial\n",
    "    for j in range(2, i + 1):       #loop for Iterating from 2 to the current element of list1\n",
    "        # Calculate the factorial by multiplying the current element with the previous value of fact\n",
    "        fact *= j\n",
    "    print(\"factorial of\", i, \"is\", fact)    # Print the result of factorial for the current element\n"
   ]
  },
  {
   "cell_type": "code",
   "execution_count": null,
   "metadata": {},
   "outputs": [],
   "source": []
  }
 ],
 "metadata": {
  "kernelspec": {
   "display_name": "Python 3",
   "language": "python",
   "name": "python3"
  },
  "language_info": {
   "codemirror_mode": {
    "name": "ipython",
    "version": 3
   },
   "file_extension": ".py",
   "mimetype": "text/x-python",
   "name": "python",
   "nbconvert_exporter": "python",
   "pygments_lexer": "ipython3",
   "version": "3.11.6"
  }
 },
 "nbformat": 4,
 "nbformat_minor": 2
}
