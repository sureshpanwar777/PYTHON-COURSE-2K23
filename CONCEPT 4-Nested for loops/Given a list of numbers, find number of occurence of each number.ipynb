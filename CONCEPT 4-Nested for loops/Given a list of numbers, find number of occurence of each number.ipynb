{
 "cells": [
  {
   "cell_type": "markdown",
   "metadata": {},
   "source": [
    "-> Given a list of numbers, find out how many times each number occurs in the list.\n"
   ]
  },
  {
   "cell_type": "code",
   "execution_count": 1,
   "metadata": {},
   "outputs": [
    {
     "name": "stdout",
     "output_type": "stream",
     "text": [
      "1 occurs 2 times in list1\n",
      "2 occurs 3 times in list1\n",
      "3 occurs 3 times in list1\n",
      "5 occurs 3 times in list1\n",
      "4 occurs 1 times in list1\n",
      "6 occurs 1 times in list1\n",
      "11 occurs 3 times in list1\n"
     ]
    }
   ],
   "source": [
    "list1 = [1, 2, 3, 2, 3, 1, 5, 3, 4, 6, 2, 5, 5, 11, 11, 11]         #given list of numbers\n",
    "list2 = []           #Create an empty list to store unique elements from list1\n",
    "for i in list1:             # loop for iterating through each element in list1\n",
    "    # Check if the element is not already in list2\n",
    "    if i not in list2:\n",
    "        list2.append(i)     # If not, add it to list2\n",
    "\n",
    "for j in list2:           # loop for iterating through unique elements in list2         \n",
    "    occurence = 0                    # assign a variable to count the occurrences of the current element in list1\n",
    "    for k in list1:                  # loop for iterating through each element in list1 to check occurence of current element\n",
    "        # Check if the current element in list1 is equal to the unique element in list2\n",
    "        if j == k:           # If equal, increment the occurrence count\n",
    "            occurence += 1\n",
    "    print(j, \"occurs\", occurence, \"times in list1\")              # Print the current element and its occurrence in list1\n"
   ]
  },
  {
   "cell_type": "code",
   "execution_count": null,
   "metadata": {},
   "outputs": [],
   "source": []
  }
 ],
 "metadata": {
  "kernelspec": {
   "display_name": "Python 3",
   "language": "python",
   "name": "python3"
  },
  "language_info": {
   "codemirror_mode": {
    "name": "ipython",
    "version": 3
   },
   "file_extension": ".py",
   "mimetype": "text/x-python",
   "name": "python",
   "nbconvert_exporter": "python",
   "pygments_lexer": "ipython3",
   "version": "3.11.6"
  }
 },
 "nbformat": 4,
 "nbformat_minor": 2
}
