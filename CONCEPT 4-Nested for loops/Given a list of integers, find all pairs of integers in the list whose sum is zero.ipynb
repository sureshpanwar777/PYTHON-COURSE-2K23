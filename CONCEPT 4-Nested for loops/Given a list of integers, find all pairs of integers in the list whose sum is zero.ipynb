{
 "cells": [
  {
   "cell_type": "markdown",
   "metadata": {},
   "source": [
    "-> Given a list of integers, find all pairs of integers in the list whose sum is zero.\n"
   ]
  },
  {
   "cell_type": "code",
   "execution_count": 3,
   "metadata": {},
   "outputs": [
    {
     "name": "stdout",
     "output_type": "stream",
     "text": [
      "Pairs whose sum is zero are {(4, -4), (1, -1), (-9, 9), (-5, 5), (-2, 2)}\n"
     ]
    }
   ],
   "source": [
    "list1 = [1, -1, -5, -9, 5, 4, -4, 9, -2, 2, 2, 10, 3]         #given list of numbers\n",
    "list3 = []             #Create an empty list to store pairs whose sum is zero\n",
    "for i in list1:          # loop for iterating through each element in list1\n",
    "    for j in list1:              #loop for iterating through each element in list1 again for each i\n",
    "        if i + j == 0:     # Check if the sum of the current pair is zero\n",
    "            list3.append((i, j))          # If yes, append the pair (i, j) to list3\n",
    "  \n",
    "for k in list1:          #loop for iterating through each element in list1\n",
    "    for l in list1:               # loop for iterate through each element in list1 again for each k\n",
    "        if (k, l) in list3:    # Check if the pair (l, k) exists in list3        \n",
    "            list3.remove((l, k))          # If yes, remove it from list3 to avoid duplicate pairs\n",
    "\n",
    "print(\"Pairs whose sum is zero are\", set(list3))        # Print the unique pairs whose sum is zero\n"
   ]
  },
  {
   "cell_type": "code",
   "execution_count": null,
   "metadata": {},
   "outputs": [],
   "source": []
  }
 ],
 "metadata": {
  "kernelspec": {
   "display_name": "Python 3",
   "language": "python",
   "name": "python3"
  },
  "language_info": {
   "codemirror_mode": {
    "name": "ipython",
    "version": 3
   },
   "file_extension": ".py",
   "mimetype": "text/x-python",
   "name": "python",
   "nbconvert_exporter": "python",
   "pygments_lexer": "ipython3",
   "version": "3.11.6"
  }
 },
 "nbformat": 4,
 "nbformat_minor": 2
}
