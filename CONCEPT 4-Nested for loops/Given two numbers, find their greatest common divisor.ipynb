{
 "cells": [
  {
   "cell_type": "markdown",
   "metadata": {},
   "source": [
    "-> Given two numbers, find its Greatest Common Divisor (Divisor).\n"
   ]
  },
  {
   "cell_type": "code",
   "execution_count": 1,
   "metadata": {},
   "outputs": [
    {
     "name": "stdout",
     "output_type": "stream",
     "text": [
      "The greatest common divisor of 123 and 256 is 1\n"
     ]
    }
   ],
   "source": [
    "a = int(input(\"Enter the first positive number: \"))      #take input from user for two positive number\n",
    "b = int(input(\"Enter the second positive number: \"))\n",
    "#loop for iterating through numbers from 1 to the minimum of a and b\n",
    "for i in range(1, min(a, b) + 1):\n",
    "    if a % i == 0 and b % i == 0:           # Check if i is a factor of both a and b\n",
    "        hcf1 = i                                        # if YES then update the highest coomon factor\n",
    "print(\"The greatest common divisor of\", a, \"and\", b, \"is\", hcf1)          #print the GCD\n"
   ]
  },
  {
   "cell_type": "code",
   "execution_count": null,
   "metadata": {},
   "outputs": [],
   "source": []
  }
 ],
 "metadata": {
  "kernelspec": {
   "display_name": "Python 3",
   "language": "python",
   "name": "python3"
  },
  "language_info": {
   "codemirror_mode": {
    "name": "ipython",
    "version": 3
   },
   "file_extension": ".py",
   "mimetype": "text/x-python",
   "name": "python",
   "nbconvert_exporter": "python",
   "pygments_lexer": "ipython3",
   "version": "3.11.6"
  }
 },
 "nbformat": 4,
 "nbformat_minor": 2
}
