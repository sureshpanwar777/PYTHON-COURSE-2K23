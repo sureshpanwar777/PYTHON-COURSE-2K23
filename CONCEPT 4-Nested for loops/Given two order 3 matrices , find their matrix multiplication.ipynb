{
 "cells": [
  {
   "cell_type": "markdown",
   "metadata": {},
   "source": [
    "-> Given two 3x3 matrices with values stored in two lists of length 9, find their product.\n"
   ]
  },
  {
   "cell_type": "code",
   "execution_count": 1,
   "metadata": {},
   "outputs": [
    {
     "name": "stdout",
     "output_type": "stream",
     "text": [
      "[6, 6, 6, 12, 12, 12, 18, 18, 18]\n"
     ]
    }
   ],
   "source": [
    "# Given matrices\n",
    "list1 = [1, 1, 1, 2, 2, 2, 3, 3, 3]\n",
    "list2 = [1, 1, 1, 2, 2, 2, 3, 3, 3]\n",
    "#Ceate an empty list to store the result of matrix multiplication\n",
    "list3 = []             \n",
    "\n",
    "for i in range(0, 9, 3):           #loop for iterate through the rows of the first matrix (list1)\n",
    "    for j in range(3):          #loop for Iterate through the columns of the second matrix (list2)\n",
    "        m1 = 0              #Assign a variable to store the sum for the current position in the result matrix\n",
    "        for k in range(3):                # loop for Iterate through the elements in the current row of list1 and the current column of list\n",
    "            m1 += list1[i + k] * list2[j + k * 3]              # Perform the matrix multiplication and accumulate the result\n",
    "        list3.append(m1)           # Append the result to the list3\n",
    "\n",
    "print(list3)        # Print the result of matrix multiplication"
   ]
  },
  {
   "cell_type": "code",
   "execution_count": null,
   "metadata": {},
   "outputs": [],
   "source": []
  }
 ],
 "metadata": {
  "kernelspec": {
   "display_name": "Python 3",
   "language": "python",
   "name": "python3"
  },
  "language_info": {
   "codemirror_mode": {
    "name": "ipython",
    "version": 3
   },
   "file_extension": ".py",
   "mimetype": "text/x-python",
   "name": "python",
   "nbconvert_exporter": "python",
   "pygments_lexer": "ipython3",
   "version": "3.11.6"
  }
 },
 "nbformat": 4,
 "nbformat_minor": 2
}
