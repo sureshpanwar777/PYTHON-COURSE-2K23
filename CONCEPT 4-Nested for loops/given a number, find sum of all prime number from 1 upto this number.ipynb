{
 "cells": [
  {
   "cell_type": "markdown",
   "metadata": {},
   "source": [
    "-> Given a positive integers, find out the sum of all prime numbers from 1 up to this number.\n"
   ]
  },
  {
   "cell_type": "code",
   "execution_count": 1,
   "metadata": {},
   "outputs": [
    {
     "name": "stdout",
     "output_type": "stream",
     "text": [
      "Sum of prime numbers till 15 is 41\n"
     ]
    }
   ],
   "source": [
    "a = int(input(\"Enter any positive number: \"))         #take input from user for positive number\n",
    "sum1 = 0              #assign a variable to store the sum of prime numbers\n",
    "for i in range(2, a + 1):           #loop for iterating through numbers from 2 to the input number \n",
    "    d = 0         #assign a variable to count the number of divisors\n",
    "    for j in range(2, int(i**0.5) + 1):        #Check for divisors in the range from 2 to the square root of i\n",
    "        if i % j == 0:\n",
    "            # If i has a divisor, increase the value by 1 \n",
    "            d = d + 1\n",
    "    if d == 0:        # If no divisors are found, i is a prime number, so add it to the sum\n",
    "        sum1 += i\n",
    "print(\"Sum of prime numbers till\", a, \"is\", sum1)     # Print the result, sum of all prime numbers up to the given number\n"
   ]
  },
  {
   "cell_type": "code",
   "execution_count": null,
   "metadata": {},
   "outputs": [],
   "source": []
  }
 ],
 "metadata": {
  "kernelspec": {
   "display_name": "Python 3",
   "language": "python",
   "name": "python3"
  },
  "language_info": {
   "codemirror_mode": {
    "name": "ipython",
    "version": 3
   },
   "file_extension": ".py",
   "mimetype": "text/x-python",
   "name": "python",
   "nbconvert_exporter": "python",
   "pygments_lexer": "ipython3",
   "version": "3.11.6"
  }
 },
 "nbformat": 4,
 "nbformat_minor": 2
}
