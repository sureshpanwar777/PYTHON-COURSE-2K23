{
 "cells": [
  {
   "cell_type": "markdown",
   "metadata": {},
   "source": [
    "-> Given a positive integer, convert it into binary, and vice-versa.\n"
   ]
  },
  {
   "cell_type": "code",
   "execution_count": 1,
   "metadata": {},
   "outputs": [
    {
     "name": "stdout",
     "output_type": "stream",
     "text": [
      "110100\n"
     ]
    }
   ],
   "source": [
    "# take input to ask user which conversion he wants (0 for integer to binary, 1 for binary to integer)\n",
    "d = int(input(\"Enter 0 for converting integer to binary or Enter 1 for converting binary to integer: \"))\n",
    "\n",
    "if d == 0:  # For integer to binary conversion\n",
    "    a = int(input(\"Enter any positive integer: \"))  # Take input of an integer\n",
    "    list1 = []  # create an empty list to store binary digits\n",
    "\n",
    "    if a == 0:\n",
    "        print(\"0\")\n",
    "    else:\n",
    "        import math  # Import math function\n",
    "\n",
    "        # Loop for range log(a) base 2 for exponential value\n",
    "        for i in range(int(math.log2(a))):\n",
    "            b = a % 2  # Get the remainder when dividing by 2\n",
    "            a = a // 2  # change 'a' by integer division by 2\n",
    "            list1.append(b)  # Append the remainder to the list\n",
    "\n",
    "        list1.reverse()  # Reverse the list to get the binary representation\n",
    "        binary = str(1)  # Initialize the binary string with the first digit\n",
    "\n",
    "        # Convert the list of binary digits to a string\n",
    "        for j in list1:\n",
    "            binary += str(j)\n",
    "\n",
    "        print(binary)  # Print the binary representation\n",
    "\n",
    "elif d == 1:\n",
    "    r = input(\"Enter any binary number: \")\n",
    "    a = r[::-1]  # Reverse the input binary string\n",
    "    dec = 0  # Initialize the decimal value\n",
    "\n",
    "    # Loop to convert binary to decimal\n",
    "    for i in range(len(a)):\n",
    "        b = a[i]  # Get each binary digit\n",
    "        c = int(b)  # Convert the binary digit to an integer\n",
    "        dec += c * (2 ** i)  # Calculate the decimal value using the binary digit and its position\n",
    "\n",
    "    print(dec)  # Print the decimal value\n",
    "\n",
    "else:\n",
    "    print(\"Invalid input, enter 0 or 1 \")  # Inform the user of an invalid input\n",
    "\n"
   ]
  },
  {
   "cell_type": "code",
   "execution_count": null,
   "metadata": {},
   "outputs": [],
   "source": []
  }
 ],
 "metadata": {
  "kernelspec": {
   "display_name": "Python 3",
   "language": "python",
   "name": "python3"
  },
  "language_info": {
   "codemirror_mode": {
    "name": "ipython",
    "version": 3
   },
   "file_extension": ".py",
   "mimetype": "text/x-python",
   "name": "python",
   "nbconvert_exporter": "python",
   "pygments_lexer": "ipython3",
   "version": "3.11.6"
  }
 },
 "nbformat": 4,
 "nbformat_minor": 2
}
