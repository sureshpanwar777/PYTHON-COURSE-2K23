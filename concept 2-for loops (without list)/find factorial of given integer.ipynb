{
 "cells": [
  {
   "cell_type": "markdown",
   "metadata": {},
   "source": [
    "-> Given a positive integer, find out its factorial.\n"
   ]
  },
  {
   "cell_type": "code",
   "execution_count": 1,
   "metadata": {},
   "outputs": [
    {
     "name": "stdout",
     "output_type": "stream",
     "text": [
      "120\n"
     ]
    }
   ],
   "source": [
    "a=int(input(\"enter any positive integer\"))  #taking input from user for positive integer\n",
    "fact1=1                  #assign value to variable (fact1)\n",
    "for i in range(2,a+1):   #write loop for range 2 to (a+1)     (no need to include 1 because it does not affect our calculation)\n",
    "    fact1*=i              #as loop iterate from 2 to every number till given no. (every no. will be multiplied to the value of fact1) \n",
    "print(fact1)               #value of fact1 changes after every iteration and as loop completed fact1 becomes the multiplication of all number from 2 to given number i.e(factorial of given number)"
   ]
  },
  {
   "cell_type": "code",
   "execution_count": null,
   "metadata": {},
   "outputs": [],
   "source": []
  }
 ],
 "metadata": {
  "kernelspec": {
   "display_name": "Python 3",
   "language": "python",
   "name": "python3"
  },
  "language_info": {
   "codemirror_mode": {
    "name": "ipython",
    "version": 3
   },
   "file_extension": ".py",
   "mimetype": "text/x-python",
   "name": "python",
   "nbconvert_exporter": "python",
   "pygments_lexer": "ipython3",
   "version": "3.11.6"
  }
 },
 "nbformat": 4,
 "nbformat_minor": 2
}
