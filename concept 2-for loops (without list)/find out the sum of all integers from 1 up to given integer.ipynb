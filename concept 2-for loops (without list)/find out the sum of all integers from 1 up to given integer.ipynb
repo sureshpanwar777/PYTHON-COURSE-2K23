{
 "cells": [
  {
   "cell_type": "markdown",
   "metadata": {},
   "source": [
    "-> Given a positive integer, find out the sum of all integers from 1 up to this number.\n"
   ]
  },
  {
   "cell_type": "code",
   "execution_count": 1,
   "metadata": {},
   "outputs": [],
   "source": [
    "a=int(input(\"enter any positive integer\")) #take input from user for positive integer\n",
    "sum1=0                       #assign value to variable (sum1)\n",
    "for i in range (a+1):        #writing loop for range (a+1)\n",
    "    sum1+=i                  #as the loop iterate from 1 to every no. till given no. (that no. will be added to the value of sum1) value of sum1 changes after every iteration\n",
    "print(sum1)                  #as the loop completed sum1 becomes the sum of all integers from 1 to given integer"
   ]
  },
  {
   "cell_type": "code",
   "execution_count": null,
   "metadata": {},
   "outputs": [],
   "source": []
  }
 ],
 "metadata": {
  "kernelspec": {
   "display_name": "Python 3",
   "language": "python",
   "name": "python3"
  },
  "language_info": {
   "codemirror_mode": {
    "name": "ipython",
    "version": 3
   },
   "file_extension": ".py",
   "mimetype": "text/x-python",
   "name": "python",
   "nbconvert_exporter": "python",
   "pygments_lexer": "ipython3",
   "version": "3.11.6"
  }
 },
 "nbformat": 4,
 "nbformat_minor": 2
}
