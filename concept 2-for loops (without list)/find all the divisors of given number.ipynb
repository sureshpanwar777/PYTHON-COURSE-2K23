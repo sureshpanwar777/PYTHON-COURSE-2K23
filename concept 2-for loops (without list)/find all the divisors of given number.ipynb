{
 "cells": [
  {
   "cell_type": "markdown",
   "metadata": {},
   "source": [
    "-> Given a positive integer, find all its divisors.\n"
   ]
  },
  {
   "cell_type": "code",
   "execution_count": 1,
   "metadata": {},
   "outputs": [
    {
     "name": "stdout",
     "output_type": "stream",
     "text": [
      "divisors of 18 are [1, 2, 3, 6, 9, 18]\n"
     ]
    }
   ],
   "source": [
    "a=int(input(\"enter any positive integer\"))         #take input from user for postitive integer\n",
    "list1=[]             #create a empty list\n",
    "for i in range (1,a+1):       #write loop for range 1 to (a+1)\n",
    "    if (a%i==0):      #as the loop iterate for every number in range, if the number is factor of given number then append it to list1\n",
    "        list1.append(i)\n",
    "print(\"divisors of\",a,\"are\",list1)   #as the loop completes list1 becomes the list of all divisors of given number\n"
   ]
  },
  {
   "cell_type": "code",
   "execution_count": null,
   "metadata": {},
   "outputs": [],
   "source": []
  }
 ],
 "metadata": {
  "kernelspec": {
   "display_name": "Python 3",
   "language": "python",
   "name": "python3"
  },
  "language_info": {
   "codemirror_mode": {
    "name": "ipython",
    "version": 3
   },
   "file_extension": ".py",
   "mimetype": "text/x-python",
   "name": "python",
   "nbconvert_exporter": "python",
   "pygments_lexer": "ipython3",
   "version": "3.11.6"
  }
 },
 "nbformat": 4,
 "nbformat_minor": 2
}
