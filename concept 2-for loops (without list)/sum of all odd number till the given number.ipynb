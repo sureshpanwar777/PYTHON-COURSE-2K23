{
 "cells": [
  {
   "cell_type": "markdown",
   "metadata": {},
   "source": [
    "-> Given a positive integer, find out the sum of all odd numbers from 1 up to this number.\n"
   ]
  },
  {
   "cell_type": "code",
   "execution_count": 1,
   "metadata": {},
   "outputs": [
    {
     "name": "stdout",
     "output_type": "stream",
     "text": [
      "sum of all odd number till  5 is 9\n"
     ]
    }
   ],
   "source": [
    "a=int(input(\"enter any positive integer\"))   #take input from user for postitive integer\n",
    "sum1=0                      #assign value to sum1\n",
    "for i in range (1,a+1,2):        #writing for loop for range 1 to (a+1) with the gap of 2 which means only odd number i.e(1,3,5,7....)\n",
    "    sum1+=i           #as the loop iterate for every odd number , the number get added to the value of sum1\n",
    "print(\"sum of all odd number till \",a,\"is\",sum1)    #value of sum1 changes after every iteration  and as the loop completes value of sum1 is sum of all odd number till the given  number"
   ]
  },
  {
   "cell_type": "code",
   "execution_count": null,
   "metadata": {},
   "outputs": [],
   "source": []
  }
 ],
 "metadata": {
  "kernelspec": {
   "display_name": "Python 3",
   "language": "python",
   "name": "python3"
  },
  "language_info": {
   "codemirror_mode": {
    "name": "ipython",
    "version": 3
   },
   "file_extension": ".py",
   "mimetype": "text/x-python",
   "name": "python",
   "nbconvert_exporter": "python",
   "pygments_lexer": "ipython3",
   "version": "3.11.6"
  }
 },
 "nbformat": 4,
 "nbformat_minor": 2
}
