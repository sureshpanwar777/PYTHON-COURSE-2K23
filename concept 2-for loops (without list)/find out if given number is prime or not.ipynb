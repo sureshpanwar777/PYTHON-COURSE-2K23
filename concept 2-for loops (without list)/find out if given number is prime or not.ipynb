{
 "cells": [
  {
   "cell_type": "markdown",
   "metadata": {},
   "source": [
    "-> Given a positive integer, find out if it’s prime or not.\n"
   ]
  },
  {
   "cell_type": "code",
   "execution_count": 6,
   "metadata": {},
   "outputs": [
    {
     "name": "stdout",
     "output_type": "stream",
     "text": [
      "29 is a prime number\n"
     ]
    }
   ],
   "source": [
    "a=int(input(\"enter any positive integer\"))    #take input from user for positive integer\n",
    "if a==1:                                 #seprate condition for a=1\n",
    "    print(a,\"is not a prime number\")  \n",
    "else:                                     #if given integer is not 1 than go for following condn\n",
    "    b=0                                  #assign value to variable (b)\n",
    "    for i in range (2,int(a**0.5)+1):     #write for loop for range 2 to square root of given no. (it is becauses in this range it covers the all pairs of multiple of number after that they repeats)\n",
    "        if a%i==0:                             #as loop iteration takes place given no. is divided by every no. in given range\n",
    "            b+=1                                     #if remainder is zero than add to the value of b (b changes after every iteration)\n",
    "    if b==0:                                 #if b is zero that means there is no factor of given number other than 1 and given number\n",
    "        print(a,\"is a prime number\")                     #that means it is a prime number\n",
    "    else:                                      #if b not equals to zero than their exist a factor of given number other than 1 and that number\n",
    "        print(a,\"is not a prime number\")                   #that means it is not a prime number"
   ]
  },
  {
   "cell_type": "code",
   "execution_count": null,
   "metadata": {},
   "outputs": [],
   "source": []
  }
 ],
 "metadata": {
  "kernelspec": {
   "display_name": "Python 3",
   "language": "python",
   "name": "python3"
  },
  "language_info": {
   "codemirror_mode": {
    "name": "ipython",
    "version": 3
   },
   "file_extension": ".py",
   "mimetype": "text/x-python",
   "name": "python",
   "nbconvert_exporter": "python",
   "pygments_lexer": "ipython3",
   "version": "3.11.6"
  }
 },
 "nbformat": 4,
 "nbformat_minor": 2
}
