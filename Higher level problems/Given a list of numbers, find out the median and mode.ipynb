{
 "cells": [
  {
   "cell_type": "markdown",
   "metadata": {},
   "source": [
    "-> Given a list of numbers, find out the median and mode."
   ]
  },
  {
   "cell_type": "code",
   "execution_count": 2,
   "metadata": {},
   "outputs": [
    {
     "name": "stdout",
     "output_type": "stream",
     "text": [
      "Sorted list: [0, 1, 1, 1, 1, 2, 3, 3, 4, 5, 7]\n",
      "Dictionary of occurence:-  {0: 1, 1: 4, 2: 1, 3: 2, 4: 1, 5: 1, 7: 1}\n"
     ]
    }
   ],
   "source": [
    "list1 = [1, 2, 1, 1, 3, 7, 5, 4, 3, 0, 1]         #given list\n",
    "\n",
    "# Create an empty list to store sorted values\n",
    "list2 = []\n",
    "#loop for sorting list in ascending order\n",
    "for i in range(len(list1)):                           #I have not used inbuilt sorting function for sorted list\n",
    "    b = min(list1)\n",
    "    list2.append(b)\n",
    "    list1.remove(b)\n",
    "# Assign the sorted list back to list1\n",
    "list1 = list2\n",
    "print(\"Sorted list:\", list1)\n",
    " \n",
    "dict1={}                   #create empty dictionary to store occurrences of each element\n",
    "for i in list1:       #loop for iterating each element in list1\n",
    "    if i not in dict1.keys():           #if current element not present in dict1 then add it to dict1 with value 1\n",
    "        dict1[i]=1\n",
    "    else:                                #if current element is already present in dict1 then increase the value of that key by 1\n",
    "        dict1[i]+=1\n",
    "print(\"Dictionary of occurence:- \", dict1)         #print dicitonary with occurence"
   ]
  },
  {
   "cell_type": "code",
   "execution_count": 6,
   "metadata": {},
   "outputs": [
    {
     "name": "stdout",
     "output_type": "stream",
     "text": [
      "Mode of given list is: 1\n",
      "Median is of the given list is 2\n"
     ]
    }
   ],
   "source": [
    "# Find the mode (element with the maximum occurrences)\n",
    "max1 = 0\n",
    "mode1 = None\n",
    "for key, value in dict1.items():\n",
    "    if value > max1:\n",
    "        max1 = value\n",
    "        mode1 = key\n",
    "\n",
    "print(\"Mode of given list is:\", mode1)     # Print the mode of the given list\n",
    "\n",
    "# Calculate the median of the sorted list\n",
    "m = len(list1)\n",
    "if m % 2 == 0:\n",
    "    median1 = (\"Median is\", (list1[m // 2 - 1] + list1[(m // 2)]) / 2)\n",
    "else:\n",
    "    median1 = list1[((m + 1) // 2) - 1]\n",
    "\n",
    "# Print the median of the given list\n",
    "print(\"Median is of the given list is\", median1)"
   ]
  },
  {
   "cell_type": "code",
   "execution_count": null,
   "metadata": {},
   "outputs": [],
   "source": []
  }
 ],
 "metadata": {
  "kernelspec": {
   "display_name": "Python 3",
   "language": "python",
   "name": "python3"
  },
  "language_info": {
   "codemirror_mode": {
    "name": "ipython",
    "version": 3
   },
   "file_extension": ".py",
   "mimetype": "text/x-python",
   "name": "python",
   "nbconvert_exporter": "python",
   "pygments_lexer": "ipython3",
   "version": "3.11.6"
  }
 },
 "nbformat": 4,
 "nbformat_minor": 2
}
