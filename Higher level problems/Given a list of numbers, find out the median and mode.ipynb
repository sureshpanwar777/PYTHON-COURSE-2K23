{
 "cells": [
  {
   "cell_type": "markdown",
   "metadata": {},
   "source": [
    "-> Given a list of numbers, find out the median and mode."
   ]
  },
  {
   "cell_type": "code",
   "execution_count": 2,
   "metadata": {},
   "outputs": [
    {
     "name": "stdout",
     "output_type": "stream",
     "text": [
      "Sorted list: [0, 1, 1, 1, 1, 2, 3, 3, 4, 5, 7]\n",
      "Dictionary of occurrences: {0: 1, 1: 4, 2: 1, 3: 2, 4: 1, 5: 1, 7: 1}\n"
     ]
    }
   ],
   "source": [
    "list1 = [1, 2, 1, 1, 3, 7, 5, 4, 3, 0, 1]         #given list\n",
    "\n",
    "# Create an empty list to store sorted values\n",
    "list2 = []\n",
    "#loop for sorting list in ascending order\n",
    "for i in range(len(list1)):         \n",
    "    b = min(list1)\n",
    "    list2.append(b)\n",
    "    list1.remove(b)\n",
    "# Assign the sorted list back to list1\n",
    "list1 = list2\n",
    "print(\"Sorted list:\", list1)\n",
    "\n",
    "\n",
    "list3 = []     #create an empty list to store unique elements\n",
    "dict1 = {}     #create an empty dictionary to store occurrences of each element\n",
    "#Loop for iterating through the sorted list to find unique elements \n",
    "for i in list1:\n",
    "    if i not in list3:\n",
    "        list3.append(i)\n",
    "#Loop for iterating through the sorted list to find occurence of unique elements\n",
    "for k in list3:\n",
    "    occurs = 0\n",
    "    for j in list1:         #inner loop for iterating through list1 to count the occurence of unique elements\n",
    "        if k == j:         #the everytime unique elements found in list1 increase the occurs count by 1\n",
    "            occurs += 1    \n",
    "    dict1[k] = occurs\n",
    "\n",
    "# Print the dictionary containing occurrences of each element\n",
    "print(\"Dictionary of occurrences:\", dict1)\n",
    "\n",
    "\n"
   ]
  },
  {
   "cell_type": "code",
   "execution_count": 3,
   "metadata": {},
   "outputs": [
    {
     "name": "stdout",
     "output_type": "stream",
     "text": [
      "Mode of given list is: 1\n",
      "Median is of the given list is 2\n"
     ]
    }
   ],
   "source": [
    "# Find the mode (element with the maximum occurrences)\n",
    "max1 = 0\n",
    "mode1 = None\n",
    "for key, value in dict1.items():\n",
    "    if value > max1:\n",
    "        max1 = value\n",
    "        mode1 = key\n",
    "\n",
    "print(\"Mode of given list is:\", mode1)     # Print the mode of the given list\n",
    "\n",
    "# Calculate the median of the sorted list\n",
    "m = len(list1)\n",
    "if m % 2 == 0:\n",
    "    median1 = (\"Median is\", (list1[m // 2 - 1] + list1[(m // 2)]) / 2)\n",
    "else:\n",
    "    median1 = list1[((m + 1) // 2) - 1]\n",
    "\n",
    "# Print the median of the given list\n",
    "print(\"Median is of the given list is\", median1)"
   ]
  },
  {
   "cell_type": "code",
   "execution_count": null,
   "metadata": {},
   "outputs": [],
   "source": []
  }
 ],
 "metadata": {
  "kernelspec": {
   "display_name": "Python 3",
   "language": "python",
   "name": "python3"
  },
  "language_info": {
   "codemirror_mode": {
    "name": "ipython",
    "version": 3
   },
   "file_extension": ".py",
   "mimetype": "text/x-python",
   "name": "python",
   "nbconvert_exporter": "python",
   "pygments_lexer": "ipython3",
   "version": "3.11.6"
  }
 },
 "nbformat": 4,
 "nbformat_minor": 2
}
