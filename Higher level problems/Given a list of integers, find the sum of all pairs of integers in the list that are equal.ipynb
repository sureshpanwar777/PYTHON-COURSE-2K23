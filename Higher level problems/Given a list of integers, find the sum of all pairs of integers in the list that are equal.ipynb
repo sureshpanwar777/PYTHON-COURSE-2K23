{
 "cells": [
  {
   "cell_type": "markdown",
   "metadata": {},
   "source": [
    "-> Given a list of integers, find the sum of all pairs of integers in the list that are equal."
   ]
  },
  {
   "cell_type": "code",
   "execution_count": 3,
   "metadata": {},
   "outputs": [
    {
     "name": "stdout",
     "output_type": "stream",
     "text": [
      "{1, 2, 3, 4, 5, 7, 8}\n",
      "\n",
      "\n",
      "Sum : Pairs having equal sum\n",
      "4 : [(1, 3), (2, 2)]\n",
      "5 : [(1, 4), (2, 3)]\n",
      "6 : [(1, 5), (2, 4), (3, 3)]\n",
      "8 : [(1, 7), (3, 5), (4, 4)]\n",
      "9 : [(1, 8), (2, 7), (4, 5)]\n",
      "7 : [(2, 5), (3, 4)]\n",
      "10 : [(2, 8), (7, 3), (5, 5)]\n",
      "11 : [(3, 8), (7, 4)]\n",
      "12 : [(4, 8), (7, 5)]\n"
     ]
    }
   ],
   "source": [
    "list1 = [1, 2, 7, 3, 4, 4, 5, 4, 3, 2, 5, 8,2,2,4]          #given list\n",
    "\n",
    "#using a set function to get unique elements from list1\n",
    "list3 = set(list1)\n",
    "print(list3)\n",
    "print(\"\\n\")\n",
    "\n",
    "#create an empty dictionary to store pairs with the same sum\n",
    "dict1 = {}\n",
    "\n",
    "# Looping through unique elements in list3 to find pairs and their sums\n",
    "for i in list3:\n",
    "    for j in list3:\n",
    "        if i + j in dict1:             #check,if i+j exist in key of dictionary\n",
    "             dict1[i + j].append((i, j))          #if yes then append (i,j) to value of that key\n",
    "        else:                          \n",
    "            dict1[i + j] = [(i, j)]         #if no,then add key as(i+j) and value as(i,j) to dict1\n",
    "\n",
    "for key, value in dict1.items():\n",
    "    dict1[key] = set(value)        #converting value to set,so no repitation in pairs\n",
    "    dict1[key] = list(value)       #again convert value to list , because set is not callable\n",
    "\n",
    "# Iterating through the dictionary and removing symmetric pairs\n",
    "for key, value in dict1.items():    \n",
    "    for pair in value:    #loop for iterating through the pairs present in value\n",
    "\n",
    "        for i in list1:               #looping for iterating through each element in given list\n",
    "            for j in list1:\n",
    "\n",
    "                if (i, j) in value:                 #if symmetric pairs exist in value\n",
    "                    if (j, i) in value:  \n",
    "                        value.remove((j, i))         #then, remove one pair\n",
    "                        if(i,j) not in value:          #if (i,i) also removed then append it back\n",
    "                            value.append((i,j))                 \n",
    "\n",
    "\n",
    "print(\"Sum : Pairs having equal sum\")           # Displaying pairs with equal sums\n",
    "for i, k in dict1.items():\n",
    "    if len(k) > 1:           #if value has more than 1 elements than print it\n",
    "        print(i, \":\", k)\n"
   ]
  },
  {
   "cell_type": "code",
   "execution_count": null,
   "metadata": {},
   "outputs": [],
   "source": []
  }
 ],
 "metadata": {
  "kernelspec": {
   "display_name": "Python 3",
   "language": "python",
   "name": "python3"
  },
  "language_info": {
   "codemirror_mode": {
    "name": "ipython",
    "version": 3
   },
   "file_extension": ".py",
   "mimetype": "text/x-python",
   "name": "python",
   "nbconvert_exporter": "python",
   "pygments_lexer": "ipython3",
   "version": "3.11.6"
  }
 },
 "nbformat": 4,
 "nbformat_minor": 2
}
