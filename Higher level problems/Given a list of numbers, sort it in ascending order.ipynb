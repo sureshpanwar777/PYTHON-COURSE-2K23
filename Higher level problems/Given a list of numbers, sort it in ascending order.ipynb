{
 "cells": [
  {
   "cell_type": "markdown",
   "metadata": {},
   "source": [
    "-> Given a list of numbers, sort it in ascending order."
   ]
  },
  {
   "cell_type": "code",
   "execution_count": 1,
   "metadata": {},
   "outputs": [
    {
     "name": "stdout",
     "output_type": "stream",
     "text": [
      "[0, 0, 1, 1, 2, 3, 3, 4, 4, 5, 7, 34, 56, 56, 66]\n"
     ]
    }
   ],
   "source": [
    "list1 = [1, 2, 3, 7, 5, 4, 3, 0, 1, 0, 34, 56, 4, 56, 66]         #given list\n",
    "\n",
    "#for loop to iterate through each element in the list\n",
    "for i in range(len(list1)):\n",
    "    for j in range(i + 1, len(list1)):                   # Inner for loop to iterate through the remaining elements\n",
    "       # Compare the current element with the remaining elements        \n",
    "        if list1[i] > list1[j]:                 \n",
    "            # Swap the elements if the current element is greater\n",
    "            list1[i], list1[j] = list1[j], list1[i]\n",
    "\n",
    "print(list1)     # Print the sorted list\n",
    "\n"
   ]
  }
 ],
 "metadata": {
  "kernelspec": {
   "display_name": "Python 3",
   "language": "python",
   "name": "python3"
  },
  "language_info": {
   "codemirror_mode": {
    "name": "ipython",
    "version": 3
   },
   "file_extension": ".py",
   "mimetype": "text/x-python",
   "name": "python",
   "nbconvert_exporter": "python",
   "pygments_lexer": "ipython3",
   "version": "3.11.6"
  }
 },
 "nbformat": 4,
 "nbformat_minor": 2
}
