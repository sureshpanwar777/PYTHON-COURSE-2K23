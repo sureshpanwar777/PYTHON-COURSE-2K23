{
 "cells": [
  {
   "cell_type": "markdown",
   "metadata": {},
   "source": [
    "-> Given a positive integer, print each of its digits separately without converting the number into a string.\n"
   ]
  },
  {
   "cell_type": "code",
   "execution_count": 3,
   "metadata": {},
   "outputs": [
    {
     "name": "stdout",
     "output_type": "stream",
     "text": [
      "total number of digits in given numberis  6 and they are\n",
      "9\n",
      "8\n",
      "4\n",
      "6\n",
      "5\n",
      "2\n"
     ]
    }
   ],
   "source": [
    "a=int(input(\"enter any positive integer\"))        #take input from user for postitive integer\n",
    "l = len(str(a))            #assign value to l i.e(len(str(a))\n",
    "print(\"total number of digits in given numberis \",l,\"and they are\")   \n",
    "for x in range(l):        #write loop for range (len(str(a)))\n",
    "        print(a%10)       #as the loop iterates ,every time the (a) get divived by 10 and print the remainder means last digit \n",
    "        a=a//10            #every  time value of (a) changes to the value of (a) divided by 10 and ignore decimal digits every time\n"
   ]
  },
  {
   "cell_type": "code",
   "execution_count": null,
   "metadata": {},
   "outputs": [],
   "source": []
  }
 ],
 "metadata": {
  "kernelspec": {
   "display_name": "Python 3",
   "language": "python",
   "name": "python3"
  },
  "language_info": {
   "codemirror_mode": {
    "name": "ipython",
    "version": 3
   },
   "file_extension": ".py",
   "mimetype": "text/x-python",
   "name": "python",
   "nbconvert_exporter": "python",
   "pygments_lexer": "ipython3",
   "version": "3.11.6"
  }
 },
 "nbformat": 4,
 "nbformat_minor": 2
}
