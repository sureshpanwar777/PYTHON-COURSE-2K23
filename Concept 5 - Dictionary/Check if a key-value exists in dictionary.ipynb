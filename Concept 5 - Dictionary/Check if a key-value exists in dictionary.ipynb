{
 "cells": [
  {
   "cell_type": "markdown",
   "metadata": {},
   "source": [
    "-> Check if a key exists in a dictionary:\n",
    "\n",
    "sample_dict = {‘a’: 100, ‘b’: 200, ‘c’: 300}\n",
    "\n",
    "key_needed = ‘d’\n",
    "\n",
    "Check if a value exists in a dictionary:\n",
    "\n",
    "sample_dict = {‘a’: 100, ‘b’: 200, ‘c’: 300}\n",
    "\n",
    "value_needed = 200"
   ]
  },
  {
   "cell_type": "code",
   "execution_count": 5,
   "metadata": {},
   "outputs": [
    {
     "name": "stdout",
     "output_type": "stream",
     "text": [
      "No, d does not exist in keys of dictionary\n",
      "Yes, 200 exists in values of dictionary\n"
     ]
    }
   ],
   "source": [
    "# Define a dictionary \n",
    "sample_dict = {'a': 100, 'b': 200, 'c': 300}\n",
    "\n",
    "key_needed = 'd'             # Specify a key and a value to check\n",
    "value_needed = 200\n",
    "\n",
    "# Check if the specified key exists in the keys of the dictionary\n",
    "if key_needed in sample_dict.keys():\n",
    "    print(\"Yes,\", key_needed, \"exists in keys of dictionary\")\n",
    "else:\n",
    "    print(\"No,\", key_needed, \"does not exist in keys of dictionary\")\n",
    "\n",
    "# Check if the specified value exists in the values of the dictionary\n",
    "if value_needed in sample_dict.values():\n",
    "    print(\"Yes,\", value_needed, \"exists in values of dictionary\")\n",
    "else:\n",
    "    print(\"No,\", value_needed, \"does not exist in values of dictionary\")\n"
   ]
  },
  {
   "cell_type": "code",
   "execution_count": null,
   "metadata": {},
   "outputs": [],
   "source": []
  }
 ],
 "metadata": {
  "kernelspec": {
   "display_name": "Python 3",
   "language": "python",
   "name": "python3"
  },
  "language_info": {
   "codemirror_mode": {
    "name": "ipython",
    "version": 3
   },
   "file_extension": ".py",
   "mimetype": "text/x-python",
   "name": "python",
   "nbconvert_exporter": "python",
   "pygments_lexer": "ipython3",
   "version": "3.11.6"
  }
 },
 "nbformat": 4,
 "nbformat_minor": 2
}
