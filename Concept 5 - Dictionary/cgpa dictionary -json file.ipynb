{
 "cells": [
  {
   "cell_type": "markdown",
   "metadata": {},
   "source": [
    "-> Write a for loop to create another dictionary from the above where the marks are replaced by grades. Above 80 is A grade, 60–80 is B grade, 40–60 is C grade, and below 40 is F. Create another dictionary to store the max and average marks for each student. Use this dictionary to compute the final CPI/CGPA of the student. Course1 is of 4 credits, Course2 of 10 credits, and Course3 of 6 credits. Store these credits in a list. Write this dictionary as a json file, and read it back into a new dictionary."
   ]
  },
  {
   "cell_type": "code",
   "execution_count": 1,
   "metadata": {},
   "outputs": [
    {
     "name": "stdout",
     "output_type": "stream",
     "text": [
      "{'Harsh': ['B', 'C', 'A'], 'Yash': ['A', 'C', 'B'], 'Rahul': ['A', 'B', 'A'], 'Raj': ['B', 'B', 'A'], 'Suresh': ['C', 'C', 'B']}\n",
      "\n",
      "\n",
      "{'student_name': ('maximum marks', 'average marks'), 'Harsh': (88, 68.33333333333333), 'Yash': (89, 69.0), 'Rahul': (98, 85.0), 'Raj': (90, 75.66666666666667), 'Suresh': (78, 58.0)}\n"
     ]
    }
   ],
   "source": [
    "dict1={'Harsh': [67, 50, 88], 'Yash': [89, 46, 72], 'Rahul': [98, 70, 87], 'Raj': [70, 67, 90], 'Suresh': [50, 46, 78]}\n",
    "import copy \n",
    "dict2 = copy.deepcopy(dict1)      #Create a deep copy of dict1 named dict2\n",
    "\n",
    "#loop for Iterating through dict2 and assign grades based on the score in each course\n",
    "for key, value in dict2.items():\n",
    "    for i in range(len(value)):\n",
    "        if value[i] > 80:\n",
    "            value[i] = 'A'\n",
    "        elif value[i] >= 60:\n",
    "            value[i] = 'B'\n",
    "        elif value[i] >= 40:\n",
    "            value[i] = 'C'\n",
    "        else:\n",
    "            value[i] = 'D'\n",
    "\n",
    "print(dict2)         #Print the dict2 with grades\n",
    "print(\"\\n\")\n",
    "\n",
    "dict3 = {}     #Create an empty dictionary \n",
    "dict3['student_name'] = ('maximum marks', 'average marks')                   #Add a key 'student_name' with a tuple ('maximum marks', 'average marks') to dict3\n",
    "\n",
    "#loop for iterating through dict1 to calculate and store maximum and average marks for each student in dict3\n",
    "for key, value in dict1.items():\n",
    "    dict3[key] = (max(value), sum(value) / len(value))\n",
    "\n",
    "print(dict3)     #Print the final dict3\n"
   ]
  },
  {
   "cell_type": "code",
   "execution_count": 2,
   "metadata": {},
   "outputs": [
    {
     "name": "stdout",
     "output_type": "stream",
     "text": [
      "Dictionary containing CGPA: {'Harsh': 8.8, 'Yash': 8.7, 'Rahul': 9.5, 'Raj': 9.3, 'Suresh': 8.3}\n",
      "\n",
      "\n"
     ]
    },
    {
     "data": {
      "text/plain": [
       "{'Harsh': 8.8, 'Yash': 8.7, 'Rahul': 9.5, 'Raj': 9.3, 'Suresh': 8.3}"
      ]
     },
     "execution_count": 2,
     "metadata": {},
     "output_type": "execute_result"
    }
   ],
   "source": [
    "list_credit = [4, 10, 6]           #List of credits for each subject\n",
    "sum_credit = sum(list_credit)   #Calculate the total sum of credits\n",
    "\n",
    "#Dictionary mapping grades to their corresponding numerical values\n",
    "dict_grade = {\"A\": 10, \"B\": 9, \"C\": 8, \"F\": 0}\n",
    "\n",
    "#Create an empty dictionary to store CGPA for each student\n",
    "dict4 = {}\n",
    "for student_name, grades in dict2.items():                   #loop for iteratin each student and their grades\n",
    "    #Assign a variable to store the weighted sum of grades\n",
    "    weighted_sum = 0\n",
    "\n",
    "    #loop for iterating each grade and corresponding credit\n",
    "    for k in range(len(grades)):\n",
    "        weighted_sum += dict_grade[grades[k]] * list_credit[k]          # Calculate the weighted sum of grades for each subject\n",
    "\n",
    "    #Calculate CGPA by dividing the weighted sum by the total sum of credits\n",
    "    dict4[student_name] = weighted_sum / sum_credit\n",
    "\n",
    "# Print the dictionary containing CGPA for each student\n",
    "print(\"Dictionary containing CGPA:\", dict4)\n",
    "print(\"\\n\")\n",
    "\n",
    "# Save the dictionary to a JSON file\n",
    "import json\n",
    "with open('dict4.json', 'w') as json_file:\n",
    "    json.dump(dict4, json_file)\n",
    "\n",
    "# Read the JSON file back into a dictionary\n",
    "with open('dict4.json', 'r') as json_file:\n",
    "    dict4 = json.load(json_file)\n",
    "\n",
    "dict4                #Return the resulting dictionary\n"
   ]
  },
  {
   "cell_type": "code",
   "execution_count": null,
   "metadata": {},
   "outputs": [],
   "source": []
  }
 ],
 "metadata": {
  "kernelspec": {
   "display_name": "Python 3",
   "language": "python",
   "name": "python3"
  },
  "language_info": {
   "codemirror_mode": {
    "name": "ipython",
    "version": 3
   },
   "file_extension": ".py",
   "mimetype": "text/x-python",
   "name": "python",
   "nbconvert_exporter": "python",
   "pygments_lexer": "ipython3",
   "version": "3.11.6"
  }
 },
 "nbformat": 4,
 "nbformat_minor": 2
}
