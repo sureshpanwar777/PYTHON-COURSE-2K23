{
 "cells": [
  {
   "cell_type": "markdown",
   "metadata": {},
   "source": [
    "-> Convert these two lists into a dictionary. Take the keys from the first list, and values from the second one.\n",
    "\n",
    "keys = [‘Ten’, ‘Twenty’, ‘Thirty’]\n",
    "\n",
    "values = [10, 20, 30]"
   ]
  },
  {
   "cell_type": "code",
   "execution_count": 1,
   "metadata": {},
   "outputs": [
    {
     "name": "stdout",
     "output_type": "stream",
     "text": [
      "{'ten': 10, 'twenty': 20, 'thirty': 30}\n"
     ]
    }
   ],
   "source": [
    "# Define two lists, 'keys' and 'values'\n",
    "keys = ['ten', 'twenty', 'thirty']\n",
    "values = [10, 20, 30]\n",
    "\n",
    "dict1 = {}    #Create an empty dictionary \n",
    "\n",
    "#Check if the length of 'keys' is not equal to the length of 'values'\n",
    "if len(keys) != len(values):\n",
    "    print(\"keys and values are not equal\")\n",
    "else:\n",
    "    #If the lengths are equal,loop for iterating through the indices of 'keys'\n",
    "    for i in range(len(keys)):\n",
    "        dict1[keys[i]] = values[i]          #Assign each key-value pair to the dictionary 'dict1'\n",
    "\n",
    "print(dict1)        #Print the resulting dictionary\n",
    "  "
   ]
  },
  {
   "cell_type": "code",
   "execution_count": null,
   "metadata": {},
   "outputs": [],
   "source": []
  }
 ],
 "metadata": {
  "kernelspec": {
   "display_name": "Python 3",
   "language": "python",
   "name": "python3"
  },
  "language_info": {
   "codemirror_mode": {
    "name": "ipython",
    "version": 3
   },
   "file_extension": ".py",
   "mimetype": "text/x-python",
   "name": "python",
   "nbconvert_exporter": "python",
   "pygments_lexer": "ipython3",
   "version": "3.11.6"
  }
 },
 "nbformat": 4,
 "nbformat_minor": 2
}
