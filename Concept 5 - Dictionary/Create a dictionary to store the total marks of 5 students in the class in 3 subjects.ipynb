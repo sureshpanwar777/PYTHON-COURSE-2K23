{
 "cells": [
  {
   "cell_type": "markdown",
   "metadata": {},
   "source": [
    "-> Create a dictionary to store the total marks of 5 students in the class in 3 subjects (Course1, Course2, Course3). The keys must be the student names, and the values must be the list of marks. Create another list which has the course names in the same order as the marks are stored in the dictionary values. Now write a nested for loop to print the marks for each student exam wise.\n",
    "\n",
    "Student1\n",
    "Course1 marks : 82,\n",
    "Course2 marks : 84,\n",
    "Course3 marks : 72\n",
    "\n",
    "Student2\n",
    "Course1 marks : 87,   Course2 marks : 83,    Course3 marks : 78"
   ]
  },
  {
   "cell_type": "code",
   "execution_count": 5,
   "metadata": {},
   "outputs": [
    {
     "name": "stdout",
     "output_type": "stream",
     "text": [
      "dict = {'Harsh': [67, 50, 88], 'Yash': [89, 46, 72], 'Rahul': [98, 70, 87], 'Raj': [70, 67, 90], 'Suresh': [50, 46, 78]}\n",
      "list1 = ['Physics', 'Chemistry', 'Maths']\n",
      "__________________\n",
      "Harsh\n",
      "Physics : 67\n",
      "Chemistry : 50\n",
      "Maths : 88\n",
      "__________________\n",
      "Yash\n",
      "Physics : 89\n",
      "Chemistry : 46\n",
      "Maths : 72\n",
      "__________________\n",
      "Rahul\n",
      "Physics : 98\n",
      "Chemistry : 70\n",
      "Maths : 87\n",
      "__________________\n",
      "Raj\n",
      "Physics : 70\n",
      "Chemistry : 67\n",
      "Maths : 90\n",
      "__________________\n",
      "Suresh\n",
      "Physics : 50\n",
      "Chemistry : 46\n",
      "Maths : 78\n",
      "__________________\n"
     ]
    }
   ],
   "source": [
    "#Create an empty dictionary \n",
    "dict1 = {}\n",
    "#Add entries to the dictionary with student names as keys and lists of scores as values\n",
    "dict1['Harsh'] = [67, 50, 88]\n",
    "dict1['Yash'] = [89, 46, 72]\n",
    "dict1['Rahul'] = [98, 70, 87]\n",
    "dict1['Raj'] = [70, 67, 90]\n",
    "dict1['Suresh'] = [50, 46, 78]\n",
    "\n",
    "print(\"dict =\", dict1)         #Print the dictionary\n",
    "#Create a list containing the names of the courses\n",
    "course_name = [\"Physics\", \"Chemistry\", \"Maths\"]\n",
    "print(\"list1 =\", course_name)                                     \n",
    "print(\"__________________\")        #Print a separator line\n",
    "\n",
    "for key, value in dict1.items():     #loop for iterating through the dictionary\n",
    "    print(key)      # Print each student's name\n",
    "    for i in range(3):             #loop for Iterate through the scores in each course \n",
    "        print(course_name[i], \":\", value[i])\n",
    "    print(\"__________________\")                # Print a separator line\n",
    "\n"
   ]
  }
 ],
 "metadata": {
  "kernelspec": {
   "display_name": "Python 3",
   "language": "python",
   "name": "python3"
  },
  "language_info": {
   "codemirror_mode": {
    "name": "ipython",
    "version": 3
   },
   "file_extension": ".py",
   "mimetype": "text/x-python",
   "name": "python",
   "nbconvert_exporter": "python",
   "pygments_lexer": "ipython3",
   "version": "3.11.6"
  }
 },
 "nbformat": 4,
 "nbformat_minor": 2
}
