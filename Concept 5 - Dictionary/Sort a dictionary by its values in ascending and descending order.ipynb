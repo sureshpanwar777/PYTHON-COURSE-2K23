{
 "cells": [
  {
   "cell_type": "markdown",
   "metadata": {},
   "source": [
    "-> Create a dictionary of your marks in various subjects and then sort it by its values first in descending order, and then in or ascending order. Do not use any inbuilt sorting functions."
   ]
  },
  {
   "cell_type": "code",
   "execution_count": 1,
   "metadata": {},
   "outputs": [
    {
     "name": "stdout",
     "output_type": "stream",
     "text": [
      "dict1 => {'maths': 80, 'physics': 90, 'chemistry': 94, 'english': 95, 'computer': 90}\n",
      "descending order => {'maths': 95, 'physics': 94, 'chemistry': 90, 'english': 90, 'computer': 80}\n",
      "ascending order => {'maths': 80, 'physics': 90, 'chemistry': 90, 'english': 94, 'computer': 95}\n"
     ]
    }
   ],
   "source": [
    "#Create an empty dictionary\n",
    "dict1 = {}\n",
    "#Add sub-marks pairs to the dictionary\n",
    "dict1['maths'] = 80\n",
    "dict1['physics'] = 90\n",
    "dict1['chemistry'] = 94\n",
    "dict1['english'] = 95\n",
    "dict1['computer'] = 90\n",
    "\n",
    "print(\"dict1 =>\", dict1)       #Print the dictionary\n",
    "\n",
    "for key, value in dict1.items():       #loop for iterating through the items of the dictionary \n",
    "    for keys, i in dict1.items():                 # Nested loop to compare each item with every other item in the dictionary\n",
    "        if value > i:\n",
    "            dict1[key], dict1[keys] = dict1[keys], dict1[key]           # Swap the values if the current value is greater than the compared value\n",
    "print(\"descending order =>\", dict1)         # Print the dictionary after sorting in descending order\n",
    "\n",
    "for key, value in dict1.items():     #loop for iterating through the items of the dictionary\n",
    "    for keys, i in dict1.items():              # Nested loop to compare each item with every other item in the dictionary\n",
    "        if value < i:      \n",
    "            dict1[key], dict1[keys] = dict1[keys], dict1[key]        # Swap the values if the current value is less than the compared value\n",
    "print(\"ascending order =>\", dict1)       #Print the dictionary after sorting in ascending order\n",
    "\n"
   ]
  },
  {
   "cell_type": "code",
   "execution_count": null,
   "metadata": {},
   "outputs": [],
   "source": []
  }
 ],
 "metadata": {
  "kernelspec": {
   "display_name": "Python 3",
   "language": "python",
   "name": "python3"
  },
  "language_info": {
   "codemirror_mode": {
    "name": "ipython",
    "version": 3
   },
   "file_extension": ".py",
   "mimetype": "text/x-python",
   "name": "python",
   "nbconvert_exporter": "python",
   "pygments_lexer": "ipython3",
   "version": "3.11.6"
  }
 },
 "nbformat": 4,
 "nbformat_minor": 2
}
