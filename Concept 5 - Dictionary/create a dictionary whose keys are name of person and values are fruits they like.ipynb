{
 "cells": [
  {
   "cell_type": "markdown",
   "metadata": {},
   "source": [
    "-> Create a dictionary whose keys are the names of your family members and friends, and the values are the list of fruits they like to eat. Now if the user gives a fruit as input, the code should print the list of names who like this fruit. Write another code to print the list of people who do not like this fruit. Using this dictionary as input, write a code to make a consolidated list of all the fruit names present in the values of various keys. This list should not have any duplicate entries. Do not use the set() function.\n"
   ]
  },
  {
   "cell_type": "code",
   "execution_count": 7,
   "metadata": {},
   "outputs": [
    {
     "name": "stdout",
     "output_type": "stream",
     "text": [
      "{'Rahul': ['mango', 'grapes', 'papaya'], 'Jayesh': ['mango', 'watermelon'], 'Bhupendra': ['mango', 'orange', 'papaya'], 'Yuvi': ['mango', 'grapes', 'orange'], 'Suraj': ['mango', 'grapes']}\n",
      "\n",
      "\n",
      "People who like =>  mango are ['Rahul', 'Jayesh', 'Bhupendra', 'Yuvi', 'Suraj']\n",
      "\n",
      "\n",
      "no one dislikes mango\n",
      "\n",
      "\n",
      "All fruits present in dictionary values are ['mango', 'grapes', 'papaya', 'watermelon', 'orange']\n"
     ]
    }
   ],
   "source": [
    "\n",
    "# Create an empty dictionary.\n",
    "dict1 = {}\n",
    "\n",
    "# Assign lists of fruits to each person in the dictionary.\n",
    "dict1['Rahul'] = ['mango', 'grapes', 'papaya']\n",
    "dict1['Jayesh'] = ['mango', 'watermelon']\n",
    "dict1['Bhupendra'] = ['mango', 'orange', 'papaya']\n",
    "dict1['Yuvi'] = ['mango', 'grapes', 'orange']\n",
    "dict1['Suraj'] = ['mango', 'grapes']\n",
    "\n",
    "# Print the dictionary.\n",
    "print(dict1)\n",
    "\n",
    "print(\"\\n\")\n",
    "# Take user input for a fruit name.\n",
    "fruit = input(\"Enter any fruit name: \")\n",
    "\n",
    "list1 = []     #create empty lists\n",
    "count = 0       #assign a variable for counter\n",
    "\n",
    "#loop for iterating through the dictionary items (key-value pairs).\n",
    "for key, value in dict1.items():\n",
    "    for k in value:             #loop for iterating through the list of fruits for each person.\n",
    "        # Check if the input fruit is present in the current person's list of fruits.\n",
    "        if fruit == k:\n",
    "            list1.append(key)        # If found, append the person to list1 and increment the counter.\n",
    "            count += 1\n",
    "\n",
    "if count != 0:       #if counter is non zero then print the list of person like the given fruit\n",
    "    print(\"People who like => \", fruit, \"are\", list1)\n",
    "else:                 #if counter is zero means no one likes the given fruit\n",
    "    print(\"No one likes\", fruit)\n",
    "\n",
    "print(\"\\n\")\n",
    "list2 = []    #Create another empty list.\n",
    "\n",
    "#loop for Iterate through the keys of the dictionary.\n",
    "for key in dict1.keys():\n",
    "    if key not in list1:         # Check if the key is not in list1 (people who likes the input fruit).\n",
    "        list2.append(key)  \n",
    "                         # If not in list1, append the key to list2.\n",
    "\n",
    "if len(list2)==0:                       #if list2 empty ,means no one dislikes given fruit\n",
    "    print(\"no one dislikes\" , fruit)\n",
    "else:\n",
    "    print(\"People who do not like => \", fruit, \"are\", list2)         #Print the people who do not like the input fruit.\n",
    "\n",
    "print(\"\\n\")\n",
    "#Create another empty list.\n",
    "list3 = []\n",
    "\n",
    "#loop for iterating through the values of the dictionary (lists of fruits for each person).\n",
    "for value in dict1.values():\n",
    "    # Iterate through the fruits in the current person's list.\n",
    "    for i in value:\n",
    "        if i not in list3:             # Check if the fruit is not already in list3.\n",
    "            list3.append(i)                  # If not in list3, append the fruit to list3.\n",
    "\n",
    "# Print all unique fruits present in the dictionary values.\n",
    "print(\"All fruits present in dictionary values are\", list3)\n"
   ]
  },
  {
   "cell_type": "code",
   "execution_count": null,
   "metadata": {},
   "outputs": [],
   "source": []
  }
 ],
 "metadata": {
  "kernelspec": {
   "display_name": "Python 3",
   "language": "python",
   "name": "python3"
  },
  "language_info": {
   "codemirror_mode": {
    "name": "ipython",
    "version": 3
   },
   "file_extension": ".py",
   "mimetype": "text/x-python",
   "name": "python",
   "nbconvert_exporter": "python",
   "pygments_lexer": "ipython3",
   "version": "3.11.6"
  }
 },
 "nbformat": 4,
 "nbformat_minor": 2
}
