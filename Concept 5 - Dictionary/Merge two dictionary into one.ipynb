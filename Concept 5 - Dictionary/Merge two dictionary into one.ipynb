{
 "cells": [
  {
   "cell_type": "markdown",
   "metadata": {},
   "source": [
    "-> Merge these two dictionaries into one using for loop\n",
    "\n",
    "dict1 = {‘Ten’: 10, ‘Twenty’: 20, ‘Thirty’: 30}\n",
    "\n",
    "dict2 = {‘Thirty’: 30, ‘Fourty’: 40, ‘Fifty’: 50}"
   ]
  },
  {
   "cell_type": "code",
   "execution_count": 1,
   "metadata": {},
   "outputs": [
    {
     "name": "stdout",
     "output_type": "stream",
     "text": [
      "{'ten': 10, 'twenty': 20, 'thirty': 30, 'fourty': 40, 'fifty': 50}\n"
     ]
    }
   ],
   "source": [
    "# Define two dictionaries, 'dict1' and 'dict2'\n",
    "dict1 = {'ten': 10, 'twenty': 20, 'thirty': 30}\n",
    "dict2 = {'thirty': 30, 'fourty': 40, 'fifty': 50}\n",
    "\n",
    "dict3 = dict1.copy()         #Create an empty dictionary and copy the contents of 'dict1' into it\n",
    "\n",
    "#loop for iterating through key-value pairs in 'dict2'\n",
    "for a, b in dict2.items():\n",
    "    if a not in dict1.keys():          #Check if the key 'a' is not already present in 'dict1'\n",
    "        dict3[a] = b                #If not present, add the key-value pair to 'dict3'\n",
    "\n",
    "print(dict3)      #Print the resulting dictionary \n"
   ]
  },
  {
   "cell_type": "code",
   "execution_count": null,
   "metadata": {},
   "outputs": [],
   "source": []
  }
 ],
 "metadata": {
  "kernelspec": {
   "display_name": "Python 3",
   "language": "python",
   "name": "python3"
  },
  "language_info": {
   "codemirror_mode": {
    "name": "ipython",
    "version": 3
   },
   "file_extension": ".py",
   "mimetype": "text/x-python",
   "name": "python",
   "nbconvert_exporter": "python",
   "pygments_lexer": "ipython3",
   "version": "3.11.6"
  }
 },
 "nbformat": 4,
 "nbformat_minor": 2
}
