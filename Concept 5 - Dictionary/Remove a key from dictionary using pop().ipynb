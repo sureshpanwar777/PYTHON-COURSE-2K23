{
 "cells": [
  {
   "cell_type": "markdown",
   "metadata": {},
   "source": [
    "-> Remove a key from a dictionary:\n",
    "\n",
    "dict_name.pop(key_name)\n",
    "\n",
    "What does this function return?\n",
    "Use pop to rename a key."
   ]
  },
  {
   "cell_type": "code",
   "execution_count": 1,
   "metadata": {},
   "outputs": [
    {
     "name": "stdout",
     "output_type": "stream",
     "text": [
      "{'twenty': 20, 'thirty': 30, 'fourty': 40}\n",
      "20\n",
      "{'thirty': 30, 'new_ten': 40}\n"
     ]
    }
   ],
   "source": [
    "#Define a dictionary named 'dict1'\n",
    "dict1 = {'ten': 10, 'twenty': 20, 'thirty': 30, 'fourty': 40}\n",
    "\n",
    "dict1.pop('ten')        #Remove the key 'ten' from the dictionary using pop()\n",
    "\n",
    "print(dict1)     #Print the dictionary after removing 'ten'\n",
    "\n",
    "# Remove the key 'twenty' from the dictionary using pop() and print the returned value\n",
    "print(dict1.pop('twenty'))           #It returns the value associated with the key being removed.\n",
    "\n",
    "renamed_value = dict1.pop('fourty')       #Rename the value associated with the key 'fourty'\n",
    "\n",
    "# Add a new key-value pair to the dictionary with the key 'new_ten' and the renamed value\n",
    "dict1['new_ten'] = renamed_value\n",
    "\n",
    "print(dict1)     #Print the modified dictionary\n"
   ]
  },
  {
   "cell_type": "code",
   "execution_count": null,
   "metadata": {},
   "outputs": [],
   "source": []
  }
 ],
 "metadata": {
  "kernelspec": {
   "display_name": "Python 3",
   "language": "python",
   "name": "python3"
  },
  "language_info": {
   "codemirror_mode": {
    "name": "ipython",
    "version": 3
   },
   "file_extension": ".py",
   "mimetype": "text/x-python",
   "name": "python",
   "nbconvert_exporter": "python",
   "pygments_lexer": "ipython3",
   "version": "3.11.6"
  }
 },
 "nbformat": 4,
 "nbformat_minor": 2
}
