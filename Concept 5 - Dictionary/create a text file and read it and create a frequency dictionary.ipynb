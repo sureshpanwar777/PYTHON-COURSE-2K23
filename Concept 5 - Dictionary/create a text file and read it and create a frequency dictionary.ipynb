{
 "cells": [
  {
   "cell_type": "markdown",
   "metadata": {},
   "source": [
    "-> Create a text file with one word in each line. The words can be repeated, i.e. the same word can come in more than one line. Read this text file in python, and create a dictionary where the key is the word and the value is the number of times it occurs in the text file.\n"
   ]
  },
  {
   "cell_type": "code",
   "execution_count": 2,
   "metadata": {},
   "outputs": [
    {
     "name": "stdout",
     "output_type": "stream",
     "text": [
      "{'rahul': 5, 'saksham': 2, 'yash': 2, 'harsh': 2, 'raj': 5, 'jayesh': 2, 'bhupendra': 1, 'rohit': 1, 'suraj': 1, 'yashu': 1, 'ranu': 1}\n"
     ]
    }
   ],
   "source": [
    "# Create an empty dictionary to store word frequencies.\n",
    "dict1 = {}\n",
    "\n",
    "with open('textfile.txt', 'r') as file:               # Open the file named 'rahul.txt' in read mode ('r').\n",
    "    for line in file:       #loop for iterating over each line in the file.\n",
    "        word = line.strip()  # Remove leading and trailing whitespaces from the line and store it in the variable 'word'.\n",
    "        \n",
    "        # Check if the word is already in the dictionary.\n",
    "        if word in dict1:\n",
    "            # If yes, increase the count for that word in the dictionary.\n",
    "            dict1[word] += 1\n",
    "        else:\n",
    "            # If not, add the word to the dictionary with a count of 1.\n",
    "            dict1[word] = 1\n",
    "\n",
    "# Print the final dictionary containing word frequencies.\n",
    "print(dict1)\n"
   ]
  },
  {
   "cell_type": "code",
   "execution_count": null,
   "metadata": {},
   "outputs": [],
   "source": []
  }
 ],
 "metadata": {
  "kernelspec": {
   "display_name": "Python 3",
   "language": "python",
   "name": "python3"
  },
  "language_info": {
   "codemirror_mode": {
    "name": "ipython",
    "version": 3
   },
   "file_extension": ".py",
   "mimetype": "text/x-python",
   "name": "python",
   "nbconvert_exporter": "python",
   "pygments_lexer": "ipython3",
   "version": "3.11.6"
  }
 },
 "nbformat": 4,
 "nbformat_minor": 2
}
