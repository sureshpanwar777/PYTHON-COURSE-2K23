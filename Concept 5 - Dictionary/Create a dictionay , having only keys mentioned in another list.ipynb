{
 "cells": [
  {
   "cell_type": "markdown",
   "metadata": {},
   "source": [
    "-> Create a new dictionary so that it only has the keys mentioned in another list\n",
    "\n",
    "sample_dict = { “name”: “Kelly”, “age”: 25, “salary”: 8000, “city”: “New york”}\n",
    "\n",
    " Keys to extract\n",
    "\n",
    "keys = [“name”, “salary”]"
   ]
  },
  {
   "cell_type": "code",
   "execution_count": 1,
   "metadata": {},
   "outputs": [
    {
     "name": "stdout",
     "output_type": "stream",
     "text": [
      "{'name': 'Kelly', 'salary': 8000}\n"
     ]
    }
   ],
   "source": [
    "# Define a dictionary named 'sample_dict'\n",
    "sample_dict = {'name': 'Kelly', 'age': 25, 'salary': 8000, 'city': 'New York'}\n",
    "\n",
    "keys = ['name', 'salary']        # Define a list of keys to extract\n",
    "dict1 = {}               # Create an empty dictionary \n",
    "\n",
    "#loop for iterating through the keys in the 'keys' list\n",
    "for i in keys:\n",
    "    if i in sample_dict.keys():                           # Check if the key is present in the keys of 'sample_dict'\n",
    "        dict1[i] = sample_dict[i]          # If present, add the key-value pair to 'dict1'\n",
    "    else:\n",
    "        print(i, \"not present in keys of given dictionary\")        # If not present\n",
    "\n",
    "print(dict1)             # Print the resulting dictionary 'dict1'\n"
   ]
  },
  {
   "cell_type": "code",
   "execution_count": null,
   "metadata": {},
   "outputs": [],
   "source": []
  }
 ],
 "metadata": {
  "kernelspec": {
   "display_name": "Python 3",
   "language": "python",
   "name": "python3"
  },
  "language_info": {
   "codemirror_mode": {
    "name": "ipython",
    "version": 3
   },
   "file_extension": ".py",
   "mimetype": "text/x-python",
   "name": "python",
   "nbconvert_exporter": "python",
   "pygments_lexer": "ipython3",
   "version": "3.11.6"
  }
 },
 "nbformat": 4,
 "nbformat_minor": 2
}
