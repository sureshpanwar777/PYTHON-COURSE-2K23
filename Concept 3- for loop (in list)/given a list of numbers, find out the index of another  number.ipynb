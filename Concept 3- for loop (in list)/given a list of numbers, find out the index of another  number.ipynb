{
 "cells": [
  {
   "cell_type": "markdown",
   "metadata": {},
   "source": [
    "--> Given a list of numbers, find out the index of another given number.\n"
   ]
  },
  {
   "cell_type": "code",
   "execution_count": 6,
   "metadata": {},
   "outputs": [
    {
     "name": "stdout",
     "output_type": "stream",
     "text": [
      "Index of 2.0 is [1, 14]\n"
     ]
    }
   ],
   "source": [
    "list1 = [1, 2,1,1, 3,1,1, 4, 5, 6, 7, 8, 15, 9, 2]      # Given list of numbers\n",
    "a = float(input(\"Enter any number:\"))       # take input from user for any number\n",
    "# Check if the entered number is not in the list\n",
    "if a not in list1:\n",
    "    print(a, \"is not present in the given list\")\n",
    "else:\n",
    "    index1 = -1        # assign a value to a variable for value of index\n",
    "    list2=[]           #create a empty list to store the index of given number \n",
    "    for i in list1:          # loop for iterating through each element (i) in the list\n",
    "        index1 += 1     #increase the value of variable by 1 for every iteration\n",
    "        if i == a:    # Check if the current element is equal to the entered number\n",
    "            list2.append(index1)     #if equal, append it to list2\n",
    "print(\"Index of\", a, \"is\", list2)       #print the list containing all the index of given number"
   ]
  },
  {
   "cell_type": "code",
   "execution_count": null,
   "metadata": {},
   "outputs": [],
   "source": []
  }
 ],
 "metadata": {
  "kernelspec": {
   "display_name": "Python 3",
   "language": "python",
   "name": "python3"
  },
  "language_info": {
   "codemirror_mode": {
    "name": "ipython",
    "version": 3
   },
   "file_extension": ".py",
   "mimetype": "text/x-python",
   "name": "python",
   "nbconvert_exporter": "python",
   "pygments_lexer": "ipython3",
   "version": "3.11.6"
  }
 },
 "nbformat": 4,
 "nbformat_minor": 2
}
