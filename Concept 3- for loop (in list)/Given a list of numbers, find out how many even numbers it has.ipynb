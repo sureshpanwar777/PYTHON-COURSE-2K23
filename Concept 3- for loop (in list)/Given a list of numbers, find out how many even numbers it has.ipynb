{
 "cells": [
  {
   "cell_type": "markdown",
   "metadata": {},
   "source": [
    "-> Given a list of numbers, find out how many even numbers it has.\n"
   ]
  },
  {
   "cell_type": "code",
   "execution_count": 1,
   "metadata": {},
   "outputs": [
    {
     "name": "stdout",
     "output_type": "stream",
     "text": [
      "Even numbers in list1 are [2, 4, 6, 8]\n",
      "There are 4 even numbers in the given list\n"
     ]
    }
   ],
   "source": [
    "list1 = [1, 2, 3, 4, 5, 6, 7, 8, 9]          #given list\n",
    "list2 = []             # create an empty list  to store even numbers\n",
    "for i in list1:          # loop for iterating through each element (i) in list1\n",
    "    # Check if the current element is even\n",
    "    if i % 2 == 0:\n",
    "        # If even, append it to list2\n",
    "        list2.append(i)\n",
    "print(\"Even numbers in list1 are\", list2)         # Print the even numbers in list1\n",
    "# Print the number of even numbers in list2 using len function\n",
    "print(\"There are\", len(list2), \"even numbers in the given list\")\n"
   ]
  },
  {
   "cell_type": "code",
   "execution_count": null,
   "metadata": {},
   "outputs": [],
   "source": []
  }
 ],
 "metadata": {
  "kernelspec": {
   "display_name": "Python 3",
   "language": "python",
   "name": "python3"
  },
  "language_info": {
   "codemirror_mode": {
    "name": "ipython",
    "version": 3
   },
   "file_extension": ".py",
   "mimetype": "text/x-python",
   "name": "python",
   "nbconvert_exporter": "python",
   "pygments_lexer": "ipython3",
   "version": "3.11.6"
  }
 },
 "nbformat": 4,
 "nbformat_minor": 2
}
