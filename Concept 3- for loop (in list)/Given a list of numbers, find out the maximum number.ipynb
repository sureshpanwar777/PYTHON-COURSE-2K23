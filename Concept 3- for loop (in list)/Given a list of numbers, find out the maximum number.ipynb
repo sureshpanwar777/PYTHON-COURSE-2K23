{
 "cells": [
  {
   "cell_type": "markdown",
   "metadata": {},
   "source": [
    "-> Given a list of numbers, find out the maximum number.\n"
   ]
  },
  {
   "cell_type": "code",
   "execution_count": 1,
   "metadata": {},
   "outputs": [
    {
     "name": "stdout",
     "output_type": "stream",
     "text": [
      "Maximum number is 9\n"
     ]
    }
   ],
   "source": [
    "list1 = [1, 2, 3, 4, 5, 6, 7, 8, 9]     # Given list of numbers\n",
    "# create the variable 'maximum' with the first element of the list\n",
    "maximum = list1[0]\n",
    "for i in list1:        # loop for iterating through each element (i) in the list\n",
    "    # Check if the current element is greater than the current maximum\n",
    "    if i > maximum:\n",
    "        # Update the maximum with current element, if the current element is greater\n",
    "        maximum = i          # at last maximum has the value of maximum number in the list\n",
    "print(\"Maximum number is\", maximum)        #Print the maximum number in the list\n"
   ]
  },
  {
   "cell_type": "code",
   "execution_count": null,
   "metadata": {},
   "outputs": [],
   "source": []
  }
 ],
 "metadata": {
  "kernelspec": {
   "display_name": "Python 3",
   "language": "python",
   "name": "python3"
  },
  "language_info": {
   "codemirror_mode": {
    "name": "ipython",
    "version": 3
   },
   "file_extension": ".py",
   "mimetype": "text/x-python",
   "name": "python",
   "nbconvert_exporter": "python",
   "pygments_lexer": "ipython3",
   "version": "3.11.6"
  }
 },
 "nbformat": 4,
 "nbformat_minor": 2
}
