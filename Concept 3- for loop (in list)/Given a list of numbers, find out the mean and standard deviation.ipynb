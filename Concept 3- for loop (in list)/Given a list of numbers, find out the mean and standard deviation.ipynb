{
 "cells": [
  {
   "cell_type": "markdown",
   "metadata": {},
   "source": [
    "-> Given a list of numbers, find out the mean and standard deviation.\n"
   ]
  },
  {
   "cell_type": "code",
   "execution_count": 2,
   "metadata": {},
   "outputs": [
    {
     "name": "stdout",
     "output_type": "stream",
     "text": [
      "Mean is 2.6666666666666665\n",
      "Standard Deviation is 1.1055415967851332\n"
     ]
    }
   ],
   "source": [
    "list1 = [2, 3, 4, 2, 4, 1]     #given list\n",
    "# assign variables for length, addition, and standard deviation\n",
    "length1 = 0\n",
    "addition = 0\n",
    "SD = 0\n",
    "for i in list1:       # Iterate through each element (i) in the list  \n",
    "    length1 += 1         # Increase the  value length1 for each element\n",
    "    addition += i        # Add the current element to the value of addition\n",
    "# Check if the list is empty\n",
    "if length1 == 0:\n",
    "    print(\"There are no numbers in the list, hence avg and standard deviation are not defined\")\n",
    "else:\n",
    "    # Calculate the mean (average) of the numbers in the list\n",
    "    mean = (addition / length1)\n",
    "\n",
    "    # Calculate the sum of squared differences for standard deviation\n",
    "    for i in list1:\n",
    "        SD = SD + ((int(i) - mean) ** 2) / length1\n",
    "\n",
    "    # Print the calculated mean and standard deviation\n",
    "    print(\"Mean is\", mean)\n",
    "    print(\"Standard Deviation is\", SD ** (1/2))\n"
   ]
  },
  {
   "cell_type": "code",
   "execution_count": null,
   "metadata": {},
   "outputs": [],
   "source": []
  }
 ],
 "metadata": {
  "kernelspec": {
   "display_name": "Python 3",
   "language": "python",
   "name": "python3"
  },
  "language_info": {
   "codemirror_mode": {
    "name": "ipython",
    "version": 3
   },
   "file_extension": ".py",
   "mimetype": "text/x-python",
   "name": "python",
   "nbconvert_exporter": "python",
   "pygments_lexer": "ipython3",
   "version": "3.11.6"
  }
 },
 "nbformat": 4,
 "nbformat_minor": 2
}
