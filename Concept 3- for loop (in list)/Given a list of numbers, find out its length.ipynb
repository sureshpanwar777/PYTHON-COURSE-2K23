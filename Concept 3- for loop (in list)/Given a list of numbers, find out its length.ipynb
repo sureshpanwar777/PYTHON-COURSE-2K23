{
 "cells": [
  {
   "cell_type": "markdown",
   "metadata": {},
   "source": [
    "-> Given a list of numbers, find out its length.\n"
   ]
  },
  {
   "cell_type": "code",
   "execution_count": 1,
   "metadata": {},
   "outputs": [
    {
     "name": "stdout",
     "output_type": "stream",
     "text": [
      "Length of list1: 9\n"
     ]
    }
   ],
   "source": [
    "list1 = [1, 2, 3, 4, 2, 4, 3, 5, 3]     # Given list\n",
    "len1 = 0            # assign value to  variable to store the length of the list\n",
    "for i in list1:       # Loop through each element in the list and increase value of variable to find the length \n",
    "    len1 += 1\n",
    "print(\"Length of list1:\", len1)          # Print the length of the list\n"
   ]
  }
 ],
 "metadata": {
  "kernelspec": {
   "display_name": "Python 3",
   "language": "python",
   "name": "python3"
  },
  "language_info": {
   "codemirror_mode": {
    "name": "ipython",
    "version": 3
   },
   "file_extension": ".py",
   "mimetype": "text/x-python",
   "name": "python",
   "nbconvert_exporter": "python",
   "pygments_lexer": "ipython3",
   "version": "3.11.6"
  }
 },
 "nbformat": 4,
 "nbformat_minor": 2
}
